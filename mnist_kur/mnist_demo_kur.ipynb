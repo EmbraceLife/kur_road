{
 "cells": [
  {
   "cell_type": "markdown",
   "metadata": {
    "deletable": true,
    "editable": true,
    "run_control": {
     "frozen": false,
     "read_only": false
    },
    "toc": "true"
   },
   "source": [
    "# Table of Contents\n",
    " <p><div class=\"lev2 toc-item\"><a href=\"#tasks-to-do\" data-toc-modified-id=\"tasks-to-do-01\"><span class=\"toc-item-num\">0.1&nbsp;&nbsp;</span>tasks to do</a></div><div class=\"lev2 toc-item\"><a href=\"#mnist.yml\" data-toc-modified-id=\"mnist.yml-02\"><span class=\"toc-item-num\">0.2&nbsp;&nbsp;</span>mnist.yml</a></div><div class=\"lev2 toc-item\"><a href=\"#mnist_defaults.yml\" data-toc-modified-id=\"mnist_defaults.yml-03\"><span class=\"toc-item-num\">0.3&nbsp;&nbsp;</span>mnist_defaults.yml</a></div><div class=\"lev2 toc-item\"><a href=\"#Create-checksum-for-dataset\" data-toc-modified-id=\"Create-checksum-for-dataset-04\"><span class=\"toc-item-num\">0.4&nbsp;&nbsp;</span>Create checksum for dataset</a></div><div class=\"lev2 toc-item\"><a href=\"#Make-a-third-mnist.yml-to-include\" data-toc-modified-id=\"Make-a-third-mnist.yml-to-include-05\"><span class=\"toc-item-num\">0.5&nbsp;&nbsp;</span>Make a third mnist.yml to include</a></div><div class=\"lev2 toc-item\"><a href=\"#Train-2-epochs-to-see-how-weights-are-saved\" data-toc-modified-id=\"Train-2-epochs-to-see-how-weights-are-saved-06\"><span class=\"toc-item-num\">0.6&nbsp;&nbsp;</span>Train 2 epochs to see how weights are saved</a></div><div class=\"lev2 toc-item\"><a href=\"#Model-evaluation\" data-toc-modified-id=\"Model-evaluation-07\"><span class=\"toc-item-num\">0.7&nbsp;&nbsp;</span>Model evaluation</a></div><div class=\"lev2 toc-item\"><a href=\"#Test-model-and-save-result\" data-toc-modified-id=\"Test-model-and-save-result-08\"><span class=\"toc-item-num\">0.8&nbsp;&nbsp;</span>Test model and save result</a></div><div class=\"lev2 toc-item\"><a href=\"#Plot-loss\" data-toc-modified-id=\"Plot-loss-09\"><span class=\"toc-item-num\">0.9&nbsp;&nbsp;</span>Plot loss</a></div><div class=\"lev2 toc-item\"><a href=\"#What-is-stored-inside-mnist-log/\" data-toc-modified-id=\"What-is-stored-inside-mnist-log/-010\"><span class=\"toc-item-num\">0.10&nbsp;&nbsp;</span>What is stored inside mnist-log/</a></div><div class=\"lev2 toc-item\"><a href=\"#What-output_hook-produce?\" data-toc-modified-id=\"What-output_hook-produce?-011\"><span class=\"toc-item-num\">0.11&nbsp;&nbsp;</span>What output_hook produce?</a></div><div class=\"lev2 toc-item\"><a href=\"#Q&amp;A\" data-toc-modified-id=\"Q&amp;A-012\"><span class=\"toc-item-num\">0.12&nbsp;&nbsp;</span>Q&amp;A</a></div>"
   ]
  },
  {
   "cell_type": "markdown",
   "metadata": {
    "deletable": true,
    "editable": true,
    "run_control": {
     "frozen": false,
     "read_only": false
    }
   },
   "source": [
    "## tasks to do\n",
    "- as for previous question on [`sort_by`](https://hyp.is/We4nmgOREeebSI8y2vM0yQ/github.com/EmbraceLife/kur_doc_demos/blob/master/comm%20with%20adam.md) x\n",
    "- a [updated question](https://hyp.is/JIAs4gOSEeetludP6WuU4Q/github.com/EmbraceLife/kur_doc_demos/blob/master/comm%20with%20adam.md) to previous question on use of `checkpoint`, \n",
    "- learn to write a [simple hook](https://hyp.is/CPUsdAOTEeeGx_-sW8Ruxw/github.com/EmbraceLife/kur_doc_demos/blob/master/comm%20with%20adam.md)\n",
    "- learn to [create a image dataset](https://hyp.is/jtsMKAOTEeeFCXNxi-KATw/github.com/EmbraceLife/kur_doc_demos/blob/master/comm%20with%20adam.md) for pickle data supplier\n",
    "- variablize folder name"
   ]
  },
  {
   "cell_type": "markdown",
   "metadata": {
    "deletable": true,
    "editable": true,
    "run_control": {
     "frozen": false,
     "read_only": false
    }
   },
   "source": [
    "## mnist.yml"
   ]
  },
  {
   "cell_type": "code",
   "execution_count": 36,
   "metadata": {
    "ExecuteTime": {
     "end_time": "2017-03-09T00:17:54.612958Z",
     "start_time": "2017-03-09T08:17:54.603856+08:00"
    },
    "collapsed": false,
    "deletable": true,
    "editable": true,
    "run_control": {
     "frozen": false,
     "read_only": false
    }
   },
   "outputs": [
    {
     "name": "stdout",
     "output_type": "stream",
     "text": [
      "Writing t2/mnist.yml\n"
     ]
    }
   ],
   "source": [
    "%%writefile  t2/mnist.yml \n",
    "\n",
    "---\n",
    "\n",
    "\n",
    "model:\n",
    "                                \n",
    "  - input: images                # build input layer, with name: images, images also is input_x\n",
    "\n",
    "  - convolution:\n",
    "      kernels: 64\n",
    "      size: [2, 2]\n",
    "  - activation: relu\n",
    "\n",
    "  - convolution:\n",
    "      kernels: 96\n",
    "      size: [2, 2]                # QUESTION: as long as padding=same, convol images won't shrink? \n",
    "  - activation: relu\n",
    "                                  # QUESTION: when pool shrink the image size, I don't need to track size here\n",
    "  - pool: [3, 3]                  # add a pooling layer with shape 3x3\n",
    "\n",
    "  - convolution:\n",
    "      kernels: 96\n",
    "      size: [2, 2]\n",
    "  - activation: relu\n",
    "\n",
    "  - flatten:\n",
    "  - dense: [64, 10]\n",
    "\n",
    "  - activation: softmax            # apply softmax activation to output layer\n",
    "    name: labels                   # Question and Answer: make this layer to be output layer, name it `labels`\n",
    "                                   # `name: labels` can be replaced with `- output: labels` \n",
    "\n",
    "\n",
    "include: mnist_defaults.yml  # to define default setting \n",
    "..."
   ]
  },
  {
   "cell_type": "markdown",
   "metadata": {
    "deletable": true,
    "editable": true,
    "run_control": {
     "frozen": false,
     "read_only": false
    }
   },
   "source": [
    "## mnist_defaults.yml"
   ]
  },
  {
   "cell_type": "code",
   "execution_count": 49,
   "metadata": {
    "ExecuteTime": {
     "end_time": "2017-03-09T00:25:15.166209Z",
     "start_time": "2017-03-09T08:25:15.152926+08:00"
    },
    "collapsed": false,
    "deletable": true,
    "editable": true,
    "run_control": {
     "frozen": false,
     "read_only": false
    }
   },
   "outputs": [
    {
     "name": "stdout",
     "output_type": "stream",
     "text": [
      "Overwriting t2/mnist_defaults.yml\n"
     ]
    }
   ],
   "source": [
    "%%writefile t2/mnist_defaults.yml\n",
    "\n",
    "---\n",
    "                         # Declare the loss function that is used during training/validation/testing.\n",
    "loss:\n",
    "                         # It is a list of loss functions, one for each model output.\n",
    "                         # The MNIST example only has one output, named \"labels\".\n",
    "  - target: labels\n",
    "    name: categorical_crossentropy\n",
    "\n",
    "                         # The \"include\" section in \"mnist.yml\" is magical, and will merge this section\n",
    "                         # into the section in \"mnist.yml\".\n",
    "                         ######## merge: this entire mnist-default.yml, not a few lines here? ##############\n",
    "                    \n",
    "                    \n",
    "                                # See what included in train section: http://kur.deepgram.com/specification.html#train\n",
    "train:\n",
    "    \n",
    "  data:  \n",
    "    - mnist:                    # mnist is data supplier, with 2 parameters: images, and labels\n",
    "        images:                 # dataset under variable name images, will be downloaded inside ~/kur\n",
    "          url: \"http://yann.lecun.com/exdb/mnist/train-images-idx3-ubyte.gz\"\n",
    "          checksum: 440fcabf73cc546fa21475e81ea370265605f56be210a4024d2ca8f203523609\n",
    "          path: \"~/kur/mnist\"  # QUESTION!: mnist dataset will be downloaded to `~/kur`, regardless where I set the path?\n",
    "                                # answer: it should be in new specified directory, but try it when ready\n",
    "            \n",
    "            \n",
    "            \n",
    "                                # QUESTION!: Is it possible to use mnist data supplier for other image datasets?\n",
    "                                # for example, I have local files `images.gz` and `labels.gz` saved in ~/kur\n",
    "                                # can I use mnist data supplier for my lcoal files? \n",
    "                                # how should I create `label.gz`?\n",
    "                                # answer: store images and labels into a pickle file, but how?\n",
    "                            \n",
    "                                # QUESTION: STANDARD PACKAGE (http://kur.deepgram.com/specification.html#standard-packaging)\n",
    "                                # `url`, `checksum`, `path` are universal to other data suppliers, but it up to other data\n",
    "                                # suppliers to decide to utilize them or not, right?\n",
    "                                # data suppliers: mnist, cifar, pickle, numpy_dict, csv, speech_recognition, are all different\n",
    "            \n",
    "                                # QUESTION: be cautious on file name, key name, input_layer name, output_layer name\n",
    "                                # read (https://hyp.is/P5qm7ALoEeecumOcfUu09g/kur.deepgram.com/specification.html)\n",
    "            \n",
    "            \n",
    "            \n",
    "        labels:                 # dataset under variable name labels, will be downloaded inside ~/kur\n",
    "          url: \"http://yann.lecun.com/exdb/mnist/train-labels-idx1-ubyte.gz\"\n",
    "          checksum: 3552534a0a558bbed6aed32b30c495cca23d567ec52cac8be1a0730e8010255c\n",
    "          path: \"~/kur/mnist\"\n",
    "\n",
    "            \n",
    "                                 # how to use see (http://kur.deepgram.com/specification.html#provider)\n",
    "                                 # As we discuss in \"Examples\" in the documentation, we only train on the first\n",
    "                                 # batches each epoch. This is just to make getting through the MNIST example\n",
    "                                 # nice and quick on slow/CPU-only machines. If you have a GPU, feel free to\n",
    "                                 # remove the \"provider:\" section entirely.\n",
    "                                \n",
    "  provider:                      \n",
    "    name: batch_provider         # if missing, then default is `name: batch_provider`, \n",
    "    batch_size: 10               # if missing, then `batch_size: 32` is default\n",
    "    num_batches: 10              # if missing, use all batches, or set any number below max_num_batch\n",
    "    randomize: true              # if missing, default is true, yes \n",
    "        \n",
    "                                 # more parameters of `provider`: sortagrad, sort_by, shuffle_after, forced_batch_size\n",
    "                                 # QUESTION!: on the use of `sort_by`\n",
    "                                 # `sort_by: X` X must be input name or a column name? \n",
    "                                 # how and when do we need to use it other than speech example?\n",
    "\n",
    "\n",
    "\n",
    "  weights: \n",
    "    initial:  \"{{folder_name}}/best_w\"\n",
    "    last:  \"{{folder_name}}/last_w\"\n",
    "        \n",
    "        \n",
    "  log:                           # QUESTION: see (http://kur.deepgram.com/specification.html#log)\n",
    "    path:  \"{{folder_name}}/mnist_log\"              \n",
    "                                 # if missing or `log: ` or `log: null`, then nothing is created or saved\n",
    "                                 # there is more advanced way of using it\n",
    "        \n",
    "        \n",
    "        \n",
    "                                 # QUESTION: see (http://kur.deepgram.com/specification.html#epochs)\n",
    "  epochs:                        # if missing, or `epochs: ` or `epochs: null` or `epochs: infinite`, \n",
    "                                 # then keep iterating until ctrl + c to stop\n",
    "    number: 2                    # it can be empty, `null`, `infinite` or just a number\n",
    "    mode: additional                  \n",
    "                                 # 2 modes: default is `additional`, the other is `total` with log exist\n",
    "                                 # mode: can not be empty, but can be missing\n",
    "    \n",
    "    \n",
    "                                 # QUESTION: see (http://kur.deepgram.com/specification.html#optimizer)\n",
    "                                 # we have options: adam, sgd, rsmprop, with clip \n",
    "  optimizer: \n",
    "    name: adam\n",
    "    learning_rate: 0.001\n",
    "    \n",
    "    \n",
    "                                # Attention: checkpoint (http://kur.deepgram.com/specification.html?highlight=sort_by#checkpoints)\n",
    "                                # every 2 epochs, 5 batches 50 samples, or 30 minutes (`minutes: 30`), whichever is earlist, then\n",
    "                                # it should pause training, save the weights (path: checkpoint.kur), \n",
    "                                # and run a validation run on 100 batches (validation: 100). You can also use `validation: yes` to \n",
    "                                # run validation on the entire validation set, \n",
    "                                # or `validation: ` no to only save the weights and then resume training.\n",
    "                            \n",
    "                                # given `validation: 100`, will the best weights wrt validation samples all the way up\n",
    "                                # to the moment of checkpoint, be selected to save inside checkpoint.kur, instead of the latest \n",
    "                                # weights up to checkpoint? will each checkpoint be stored so there are many models saved in the end?\n",
    "                                # or only the latest model will be stored?\n",
    "                                \n",
    "                                \n",
    "                                # log: save the loss for each epoch, record history; \n",
    "                                # best_w: update the best weights wrt validation samples\n",
    "                                # checkpoint.kur: save the latest weights wrt training set, at a specific time defined by checkpoint\n",
    "                                \n",
    "                                # QUESTION!:\n",
    "                                # if I understand what stored inside `best_w` and `checkpoint.kur` correctly, in each epoch we have \n",
    "                                # the best weights wrt validation set saved in best_w, latest weights wrt training set \n",
    "                                # saved in last_w, why do we need checkpoint to save weights? or in what situation\n",
    "                                # is checkpoint necessary?\n",
    "                                \n",
    "                                \n",
    "  checkpoint:\n",
    "    path:  \"{{folder_name}}/checkpoint.kur\"\n",
    "    epochs: 2\n",
    "    batches: 5\n",
    "    samples: 50\n",
    "    minutes: 30\n",
    "    validation: 100                                \n",
    "    \n",
    "    \n",
    "    \n",
    "                                # how to make a plot\n",
    "                                # QUESTION! Where does plot hooks belong? -- train section\n",
    "  hooks:\n",
    "    - plot:\n",
    "        loss_per_batch:  \"{{folder_name}}/loss1.png\"\n",
    "        loss_per_time:  \"{{folder_name}}/loss2.png\"\n",
    "        throughput_per_time:  \"{{folder_name}}/loss3.png\"    \n",
    "    \n",
    "\n",
    "                         # Here, we use the MNIST test set as a validation set (more generally, you'll\n",
    "                         # want train, validation, and test sets; but we ignore this for the MNIST\n",
    "                         # example). The funky \"&validation\" is just a YAML anchor, so we can reference\n",
    "                         # this section later.\n",
    "validate: &validate\n",
    "  data:\n",
    "    - mnist:\n",
    "        images:          #QUESTION AND ANSWER\n",
    "                         # the checksum is optional. If you need to generate the checksum (because, for example, \n",
    "                         # you want to use a new/different dataset, same images and labels with different datasets for train/valid), \n",
    "                         # then just run sha256sum FILE (on Linux) or shasum -a 256 FILE (on macOS).\n",
    "          url: \"http://yann.lecun.com/exdb/mnist/t10k-images-idx3-ubyte.gz\"\n",
    "          checksum: 8d422c7b0a1c1c79245a5bcf07fe86e33eeafee792b84584aec276f5a2dbc4e6\n",
    "          path: \"~/kur/mnist\"\n",
    "        labels:\n",
    "          url: \"http://yann.lecun.com/exdb/mnist/t10k-labels-idx1-ubyte.gz\"\n",
    "          checksum: f7ae60f92e00ec6debd23a6088c31dbd2371eca3ffa0defaefb259924204aec6\n",
    "          path: \"~/kur/mnist\"\n",
    "\n",
    "                         # Let's also use less data for validation, just to speed it along.\n",
    "  provider:\n",
    "    num_batches: 5\n",
    "    batch_size: 8\n",
    "    randomize: yes\n",
    "\n",
    "        \n",
    "                         # ATTENTION: where to save best validation weights see (http://kur.deepgram.com/specification.html#id1)\n",
    "                         # Don't save if missing, or `weights: ` or `weights: null`\n",
    "                         # save, with short form: `weights: path`\n",
    "  weights: \n",
    "    best:  \"{{folder_name}}/best_w\"\n",
    "\n",
    "\n",
    "                           # QUESTION!: how to make output hook useful in validate section?\n",
    "                           # \"If in validate section, the hooks are passed a single batch of model output after each validation run. \n",
    "                           # This is useful for printing out some examples of your model’s progress.\"\n",
    "                           # does it mean: each epoch, a batch of model output will be generated; and it will be very helpful\n",
    "                           # at end of each epoch, instead of loading from pickle file, such output is automatically printed out \n",
    "                           # in a nice readable format for users to see, right? Like we discussed previously about making \n",
    "                           # hooks for plotting weights and activations \n",
    "  hooks: \n",
    "    - output: \n",
    "        path:  \"{{folder_name}}/valid_results.pkl\"\n",
    "        format: pickle  # we can have one format for output right?\n",
    "        \n",
    "                        # QUESTION: Don't we need separate dataset from training set and validation set?\n",
    "                        # can Kur perform data split into training, validation and test sets?\n",
    "        \n",
    "        \n",
    "        \n",
    "        \n",
    "                         # Let's define the test set, used if you execute something like:\n",
    "                         # `kur test mnist.yml`\n",
    "                         # The funky \"*validation\" is just a YAML alias, so we basically are setting the\n",
    "                         # \"test\" section\" to be the same as the \"validate\" section.\n",
    "                         # this is why `validate: &validate` is very necessary and useful ##################\n",
    "test: \n",
    "  <<: *validate\n",
    "\n",
    "                         # This is the evaluation section, used during `kur evaluate mnist.yml`.\n",
    "                         # The funky \"<<: *validate\" is just YAML, and basically means \"copy all of the\n",
    "                         # keys from 'validate', and then add/replace the \n",
    "                         # what does \"copy all the keys from 'validate' mean? and \"add/replace\" what? ######\n",
    "                         # but how exactly *validate and <<: *validate differ? #############################\n",
    "           \n",
    "\n",
    "\n",
    "  weights:               # best weights must set for test too, otherwise, meaningless\n",
    "    initial:  \"{{folder_name}}/best_w\"\n",
    "        \n",
    "  provider: \n",
    "    num_batches: 30\n",
    "                        \n",
    "                        \n",
    "                         # Use the entire testing set for evaluation, or set any number you like   \n",
    "evaluate:\n",
    "  <<: *validate\n",
    "  \n",
    "\n",
    "\n",
    "  provider:\n",
    "    num_batches: null\n",
    "        \n",
    "        \n",
    "  weights:               \n",
    "    initial:  \"{{folder_name}}/best_w\"\n",
    "\n",
    "        \n",
    "                         # QUESTION!: with destination, this is to save/update an ouput whenever we run `kur evaluate file`, right?   \n",
    "                         # (http://kur.deepgram.com/specification.html?highlight=sort_by#destination)\n",
    "                    \n",
    "                         # In this example: \n",
    "                         # entire test set is used to produce the output pickle file\n",
    "                         # the pickle file contains 2 dicts, one for prediction labels, another for truth labels\n",
    "  destination: \"{{folder_name}}/mnist.results.pkl\"\n",
    "\n",
    "                         # This is a list of post-processing hooks. Here, we want to produce the\n",
    "                         # digit-by-digit accuracy table (just called \"mnist\").\n",
    "                         # QUESTION!: What exactly is such \"digit-by-digit accuracy table\"? \n",
    "                         # How to access this table? How to see it?\n",
    "  hooks:\n",
    "    - mnist\n",
    "...\n"
   ]
  },
  {
   "cell_type": "markdown",
   "metadata": {
    "deletable": true,
    "editable": true,
    "run_control": {
     "frozen": false,
     "read_only": false
    }
   },
   "source": [
    "## Create checksum for dataset\n",
    "- same input or output name, but different sets of data\n",
    "- use checksum to differentiate them"
   ]
  },
  {
   "cell_type": "code",
   "execution_count": 50,
   "metadata": {
    "ExecuteTime": {
     "end_time": "2017-03-09T00:25:17.097969Z",
     "start_time": "2017-03-09T08:25:16.857800+08:00"
    },
    "collapsed": false,
    "deletable": true,
    "editable": true,
    "run_control": {
     "frozen": false,
     "read_only": false
    }
   },
   "outputs": [
    {
     "name": "stdout",
     "output_type": "stream",
     "text": [
      "440fcabf73cc546fa21475e81ea370265605f56be210a4024d2ca8f203523609  /Users/Natsume/kur/mnist/train-images-idx3-ubyte.gz\r\n"
     ]
    }
   ],
   "source": [
    "!shasum -a 256 /Users/Natsume/kur/mnist/train-images-idx3-ubyte.gz"
   ]
  },
  {
   "cell_type": "markdown",
   "metadata": {
    "deletable": true,
    "editable": true,
    "run_control": {
     "frozen": false,
     "read_only": false
    }
   },
   "source": [
    "## Make a third mnist.yml to include"
   ]
  },
  {
   "cell_type": "code",
   "execution_count": 51,
   "metadata": {
    "ExecuteTime": {
     "end_time": "2017-03-09T00:25:21.096039Z",
     "start_time": "2017-03-09T08:25:21.088930+08:00"
    },
    "collapsed": false,
    "deletable": true,
    "editable": true,
    "run_control": {
     "frozen": false,
     "read_only": false
    }
   },
   "outputs": [
    {
     "name": "stdout",
     "output_type": "stream",
     "text": [
      "Overwriting t2/mnist_sim.yml\n"
     ]
    }
   ],
   "source": [
    "%%writefile t2/mnist_sim.yml\n",
    "\n",
    "---\n",
    "settings: \n",
    "    \n",
    "                                                    # check: working or not\n",
    "  folder_name: t2\n",
    "\n",
    "\n",
    "train: \n",
    "  epochs: 2\n",
    "\n",
    "    \n",
    "    \n",
    "include: mnist.yml\n",
    "...\n",
    "\n"
   ]
  },
  {
   "cell_type": "markdown",
   "metadata": {},
   "source": [
    "## Train 2 epochs to see how weights are saved"
   ]
  },
  {
   "cell_type": "code",
   "execution_count": 48,
   "metadata": {
    "ExecuteTime": {
     "end_time": "2017-03-09T00:24:25.826096Z",
     "start_time": "2017-03-09T08:24:09.756710+08:00"
    },
    "collapsed": false,
    "deletable": true,
    "editable": true,
    "run_control": {
     "frozen": true,
     "read_only": true
    }
   },
   "outputs": [
    {
     "name": "stdout",
     "output_type": "stream",
     "text": [
      "\u001b[1;37m[INFO 2017-03-09 08:24:10,603 kur.kurfile:699]\u001b[0m Parsing source: t2/mnist_sim.yml, included by top-level.\u001b[0m\n",
      "\u001b[1;37m[INFO 2017-03-09 08:24:10,607 kur.kurfile:699]\u001b[0m Parsing source: mnist.yml, included by t2/mnist_sim.yml.\u001b[0m\n",
      "\u001b[1;37m[INFO 2017-03-09 08:24:10,614 kur.kurfile:699]\u001b[0m Parsing source: mnist_defaults.yml, included by t2/mnist.yml.\u001b[0m\n",
      "\u001b[1;37m[INFO 2017-03-09 08:24:10,642 kur.kurfile:82]\u001b[0m Parsing Kurfile...\u001b[0m\n",
      "\u001b[1;37m[INFO 2017-03-09 08:24:10,672 kur.loggers.binary_logger:71]\u001b[0m Loading log data: t2/mnist_log\u001b[0m\n",
      "\u001b[1;37m[INFO 2017-03-09 08:24:11,611 kur.backend.backend:80]\u001b[0m Creating backend: keras\u001b[0m\n",
      "\u001b[1;37m[INFO 2017-03-09 08:24:11,611 kur.backend.backend:83]\u001b[0m Backend variants: none\u001b[0m\n",
      "\u001b[1;37m[INFO 2017-03-09 08:24:11,611 kur.backend.keras_backend:122]\u001b[0m No particular backend for Keras has been requested.\u001b[0m\n",
      "\u001b[1;37m[INFO 2017-03-09 08:24:12,180 kur.backend.keras_backend:195]\u001b[0m Keras is loaded. The backend is: theano\u001b[0m\n",
      "\u001b[1;37m[INFO 2017-03-09 08:24:12,180 kur.model.model:261]\u001b[0m Enumerating the model containers.\u001b[0m\n",
      "\u001b[1;37m[INFO 2017-03-09 08:24:12,180 kur.model.model:266]\u001b[0m Assembling the model dependency graph.\u001b[0m\n",
      "\u001b[1;37m[INFO 2017-03-09 08:24:12,180 kur.model.model:281]\u001b[0m Connecting the model graph.\u001b[0m\n",
      "\u001b[1;37m[INFO 2017-03-09 08:24:13,190 kur.model.model:285]\u001b[0m Model inputs:  images\u001b[0m\n",
      "\u001b[1;37m[INFO 2017-03-09 08:24:13,190 kur.model.model:286]\u001b[0m Model outputs: labels\u001b[0m\n",
      "\u001b[1;37m[INFO 2017-03-09 08:24:13,245 kur.model.executor:313]\u001b[0m Best historical training loss: 0.307\u001b[0m\n",
      "\u001b[1;37m[INFO 2017-03-09 08:24:13,246 kur.model.executor:320]\u001b[0m Best historical validation loss: 0.197\u001b[0m\n",
      "\u001b[1;37m[INFO 2017-03-09 08:24:13,246 kur.model.executor:331]\u001b[0m Restarting from epoch 15.\u001b[0m\n",
      "\u001b[1;37m[INFO 2017-03-09 08:24:16,279 kur.backend.keras_backend:666]\u001b[0m Waiting for model to finish compiling...\u001b[0m\n",
      "\n",
      "Epoch 15/16, loss=0.444: 100%|███████████| 100/100 [00:01<00:00, 60.37samples/s]\n",
      "\u001b[1;37m[INFO 2017-03-09 08:24:18,434 kur.model.executor:464]\u001b[0m Training loss: 0.444\u001b[0m\n",
      "\u001b[1;37m[INFO 2017-03-09 08:24:19,656 kur.backend.keras_backend:666]\u001b[0m Waiting for model to finish compiling...\u001b[0m\n",
      "Validating, loss=0.857: 100%|█████████████| 40/40 [00:00<00:00, 139.07samples/s]\n",
      "\u001b[1;37m[INFO 2017-03-09 08:24:19,956 kur.model.executor:197]\u001b[0m Validation loss: 0.857\u001b[0m\n",
      "\u001b[1;37m[INFO 2017-03-09 08:24:19,956 kur.model.hooks.output_hook:40]\u001b[0m Saving model output as pickle: t2/valid_results.pkl\u001b[0m\n",
      "\n",
      "Epoch 16/16, loss=0.325: 100%|███████████| 100/100 [00:01<00:00, 58.46samples/s]\n",
      "\u001b[1;37m[INFO 2017-03-09 08:24:22,827 kur.model.executor:464]\u001b[0m Training loss: 0.325\u001b[0m\n",
      "Validating, loss=0.594: 100%|█████████████| 40/40 [00:00<00:00, 129.79samples/s]\n",
      "\u001b[1;37m[INFO 2017-03-09 08:24:23,084 kur.model.executor:197]\u001b[0m Validation loss: 0.594\u001b[0m\n",
      "\u001b[1;37m[INFO 2017-03-09 08:24:23,084 kur.model.hooks.output_hook:40]\u001b[0m Saving model output as pickle: t2/valid_results.pkl\u001b[0m\n",
      "Completed 16 epochs.\n",
      "\u001b[1;37m[INFO 2017-03-09 08:24:24,233 kur.model.executor:235]\u001b[0m Saving most recent weights: t2/last_w\u001b[0m\n"
     ]
    }
   ],
   "source": [
    "# check: without checkpoint in train section, freezed to compare\n",
    "!kur -v train t2/mnist_sim.yml "
   ]
  },
  {
   "cell_type": "code",
   "execution_count": 52,
   "metadata": {
    "ExecuteTime": {
     "end_time": "2017-03-09T00:27:06.494362Z",
     "start_time": "2017-03-09T08:26:26.809320+08:00"
    },
    "collapsed": false,
    "run_control": {
     "frozen": true,
     "read_only": true
    }
   },
   "outputs": [
    {
     "name": "stdout",
     "output_type": "stream",
     "text": [
      "\u001b[1;37m[INFO 2017-03-09 08:26:27,628 kur.kurfile:699]\u001b[0m Parsing source: t2/mnist_sim.yml, included by top-level.\u001b[0m\n",
      "\u001b[1;37m[INFO 2017-03-09 08:26:27,632 kur.kurfile:699]\u001b[0m Parsing source: mnist.yml, included by t2/mnist_sim.yml.\u001b[0m\n",
      "\u001b[1;37m[INFO 2017-03-09 08:26:27,639 kur.kurfile:699]\u001b[0m Parsing source: mnist_defaults.yml, included by t2/mnist.yml.\u001b[0m\n",
      "\u001b[1;37m[INFO 2017-03-09 08:26:27,678 kur.kurfile:82]\u001b[0m Parsing Kurfile...\u001b[0m\n",
      "\u001b[1;37m[INFO 2017-03-09 08:26:27,731 kur.loggers.binary_logger:71]\u001b[0m Loading log data: t2/mnist_log\u001b[0m\n",
      "\u001b[1;37m[INFO 2017-03-09 08:26:28,672 kur.backend.backend:80]\u001b[0m Creating backend: keras\u001b[0m\n",
      "\u001b[1;37m[INFO 2017-03-09 08:26:28,672 kur.backend.backend:83]\u001b[0m Backend variants: none\u001b[0m\n",
      "\u001b[1;37m[INFO 2017-03-09 08:26:28,672 kur.backend.keras_backend:122]\u001b[0m No particular backend for Keras has been requested.\u001b[0m\n",
      "\u001b[1;37m[INFO 2017-03-09 08:26:29,221 kur.backend.keras_backend:195]\u001b[0m Keras is loaded. The backend is: theano\u001b[0m\n",
      "\u001b[1;37m[INFO 2017-03-09 08:26:29,222 kur.model.model:261]\u001b[0m Enumerating the model containers.\u001b[0m\n",
      "\u001b[1;37m[INFO 2017-03-09 08:26:29,222 kur.model.model:266]\u001b[0m Assembling the model dependency graph.\u001b[0m\n",
      "\u001b[1;37m[INFO 2017-03-09 08:26:29,222 kur.model.model:281]\u001b[0m Connecting the model graph.\u001b[0m\n",
      "\u001b[1;37m[INFO 2017-03-09 08:26:30,369 kur.model.model:285]\u001b[0m Model inputs:  images\u001b[0m\n",
      "\u001b[1;37m[INFO 2017-03-09 08:26:30,369 kur.model.model:286]\u001b[0m Model outputs: labels\u001b[0m\n",
      "\u001b[1;37m[INFO 2017-03-09 08:26:30,414 kur.model.executor:313]\u001b[0m Best historical training loss: 0.307\u001b[0m\n",
      "\u001b[1;37m[INFO 2017-03-09 08:26:30,415 kur.model.executor:320]\u001b[0m Best historical validation loss: 0.197\u001b[0m\n",
      "\u001b[1;37m[INFO 2017-03-09 08:26:30,415 kur.model.executor:331]\u001b[0m Restarting from epoch 17.\u001b[0m\n",
      "\u001b[1;37m[INFO 2017-03-09 08:26:33,479 kur.backend.keras_backend:666]\u001b[0m Waiting for model to finish compiling...\u001b[0m\n",
      "\n",
      "Epoch 17/18, loss=0.293:  40%|████▊       | 40/100 [00:00<00:01, 38.85samples/s]\u001b[1;37m[INFO 2017-03-09 08:26:34,882 kur.model.executor:521]\u001b[0m Making checkpoint backup: t2/checkpoint.kur\u001b[0m\n",
      "\u001b[1;37m[INFO 2017-03-09 08:26:36,244 kur.backend.keras_backend:666]\u001b[0m Waiting for model to finish compiling...\u001b[0m\n",
      "\n",
      "Validating, loss=N/A:   0%|                         | 0/40 [00:00<?, ?samples/s]\u001b[A\n",
      "Validating, loss=0.604:  20%|███            | 8/40 [00:00<00:00, 74.15samples/s]\u001b[A\n",
      "Validating, loss=0.368:  80%|███████████▏  | 32/40 [00:00<00:00, 90.21samples/s]\u001b[A\n",
      "Validating, loss=0.577: 56samples [00:00, 108.96samples/s]                      \u001b[A\n",
      "Validating, loss=0.493: 80samples [00:00, 125.06samples/s]\u001b[A\n",
      "Validating, loss=0.420: 104samples [00:00, 140.56samples/s]\u001b[A\n",
      "Validating, loss=0.473: 128samples [00:00, 154.78samples/s]\u001b[A\n",
      "Validating, loss=0.489: 152samples [00:00, 172.84samples/s]\u001b[A\n",
      "Validating, loss=0.446: 176samples [00:00, 181.68samples/s]\u001b[A\n",
      "Validating, loss=0.445: 200samples [00:01, 170.72samples/s]\u001b[A\n",
      "Validating, loss=0.430: 224samples [00:01, 156.14samples/s]\u001b[A\n",
      "Validating, loss=0.473: 248samples [00:01, 152.59samples/s]\u001b[A\n",
      "Validating, loss=0.476: 264samples [00:01, 151.50samples/s]\u001b[A\n",
      "Validating, loss=0.493: 280samples [00:01, 151.94samples/s]\u001b[A\n",
      "Validating, loss=0.491: 296samples [00:01, 154.26samples/s]\u001b[A\n",
      "Validating, loss=0.480: 312samples [00:01, 155.34samples/s]\u001b[A\n",
      "Validating, loss=0.488: 328samples [00:02, 138.98samples/s]\u001b[A\n",
      "Validating, loss=0.483: 344samples [00:02, 138.70samples/s]\u001b[A\n",
      "Validating, loss=0.474: 368samples [00:02, 154.62samples/s]\u001b[A\n",
      "Validating, loss=0.476: 392samples [00:02, 163.81samples/s]\u001b[A\n",
      "Validating, loss=0.464: 416samples [00:02, 150.07samples/s]\u001b[A\n",
      "Validating, loss=0.479: 432samples [00:02, 152.85samples/s]\u001b[A\n",
      "Validating, loss=0.492: 448samples [00:02, 143.05samples/s]\u001b[A\n",
      "Validating, loss=0.493: 464samples [00:02, 143.45samples/s]\u001b[A\n",
      "Validating, loss=0.504: 480samples [00:03, 137.26samples/s]\u001b[A\n",
      "Validating, loss=0.500: 496samples [00:03, 134.82samples/s]\u001b[A\n",
      "Validating, loss=0.502: 512samples [00:03, 130.68samples/s]\u001b[A\n",
      "Validating, loss=0.507: 528samples [00:03, 131.58samples/s]\u001b[A\n",
      "Validating, loss=0.507: 544samples [00:03, 131.93samples/s]\u001b[A\n",
      "Validating, loss=0.510: 560samples [00:03, 125.41samples/s]\u001b[A\n",
      "Validating, loss=0.510: 576samples [00:03, 130.25samples/s]\u001b[A\n",
      "Validating, loss=0.512: 600samples [00:03, 136.31samples/s]\u001b[A\n",
      "Validating, loss=0.508: 616samples [00:04, 134.97samples/s]\u001b[A\n",
      "Validating, loss=0.502: 632samples [00:04, 140.09samples/s]\u001b[A\n",
      "Validating, loss=0.496: 648samples [00:04, 134.32samples/s]\u001b[A\n",
      "Validating, loss=0.489: 664samples [00:04, 126.69samples/s]\u001b[A\n",
      "Validating, loss=0.506: 680samples [00:04, 127.88samples/s]\u001b[A\n",
      "Validating, loss=0.508: 696samples [00:04, 125.34samples/s]\u001b[A\n",
      "Validating, loss=0.502: 712samples [00:04, 126.06samples/s]\u001b[A\n",
      "Validating, loss=0.513: 728samples [00:04, 125.97samples/s]\u001b[A\n",
      "Validating, loss=0.512: 744samples [00:05, 128.83samples/s]\u001b[A\n",
      "Validating, loss=0.518: 760samples [00:05, 135.50samples/s]\u001b[A\n",
      "Validating, loss=0.516: 784samples [00:05, 144.09samples/s]\u001b[A\n",
      "Validating, loss=0.509: 800samples [00:05, 137.14samples/s]\u001b[A\n",
      "\u001b[A\u001b[1;37m[INFO 2017-03-09 08:26:41,719 kur.model.executor:197]\u001b[0m Validation loss: 0.509\u001b[0m\n",
      "\u001b[1;37m[INFO 2017-03-09 08:26:41,720 kur.model.hooks.output_hook:40]\u001b[0m Saving model output as pickle: t2/valid_results.pkl\u001b[0m\n",
      "Epoch 17/18, loss=0.351:  90%|██████████▊ | 90/100 [00:09<00:00, 12.55samples/s]\u001b[1;37m[INFO 2017-03-09 08:26:43,992 kur.model.executor:521]\u001b[0m Making checkpoint backup: t2/checkpoint.kur\u001b[0m\n",
      "\n",
      "Validating, loss=N/A:   0%|                         | 0/40 [00:00<?, ?samples/s]\u001b[A\n",
      "Validating, loss=0.328:  20%|███            | 8/40 [00:00<00:00, 39.61samples/s]\u001b[A\n",
      "Validating, loss=0.224:  60%|████████▍     | 24/40 [00:00<00:00, 51.15samples/s]\u001b[A\n",
      "Validating, loss=0.534: 48samples [00:00, 65.23samples/s]                       \u001b[A\n",
      "Validating, loss=0.406: 72samples [00:00, 81.97samples/s]\u001b[A\n",
      "Validating, loss=0.372: 88samples [00:00, 92.00samples/s]\u001b[A\n",
      "Validating, loss=0.396: 104samples [00:00, 101.64samples/s]\u001b[A\n",
      "Validating, loss=0.413: 120samples [00:00, 111.07samples/s]\u001b[A\n",
      "Validating, loss=0.374: 136samples [00:01, 120.56samples/s]\u001b[A\n",
      "Validating, loss=0.353: 152samples [00:01, 121.96samples/s]\u001b[A\n",
      "Validating, loss=0.347: 168samples [00:01, 120.90samples/s]\u001b[A\n",
      "Validating, loss=0.348: 192samples [00:01, 128.76samples/s]\u001b[A\n",
      "Validating, loss=0.362: 216samples [00:01, 146.52samples/s]\u001b[A\n",
      "Validating, loss=0.346: 240samples [00:01, 161.18samples/s]\u001b[A\n",
      "Validating, loss=0.324: 264samples [00:01, 164.41samples/s]\u001b[A\n",
      "Validating, loss=0.302: 296samples [00:01, 182.40samples/s]\u001b[A\n",
      "Validating, loss=0.281: 328samples [00:02, 197.89samples/s]\u001b[A\n",
      "Validating, loss=0.278: 352samples [00:02, 207.02samples/s]\u001b[A\n",
      "Validating, loss=0.287: 376samples [00:02, 215.19samples/s]\u001b[A\n",
      "Validating, loss=0.300: 408samples [00:02, 219.20samples/s]\u001b[A\n",
      "Validating, loss=0.310: 432samples [00:02, 222.70samples/s]\u001b[A\n",
      "Validating, loss=0.310: 456samples [00:02, 224.17samples/s]\u001b[A\n",
      "Validating, loss=0.332: 480samples [00:02, 221.78samples/s]\u001b[A\n",
      "Validating, loss=0.333: 504samples [00:02, 218.65samples/s]\u001b[A\n",
      "Validating, loss=0.352: 528samples [00:02, 220.92samples/s]\u001b[A\n",
      "Validating, loss=0.357: 552samples [00:03, 222.55samples/s]\u001b[A\n",
      "Validating, loss=0.365: 584samples [00:03, 231.52samples/s]\u001b[A\n",
      "Validating, loss=0.367: 616samples [00:03, 234.25samples/s]\u001b[A\n",
      "Validating, loss=0.366: 640samples [00:03, 228.24samples/s]\u001b[A\n",
      "Validating, loss=0.365: 664samples [00:03, 227.49samples/s]\u001b[A\n",
      "Validating, loss=0.361: 696samples [00:03, 233.98samples/s]\u001b[A\n",
      "Validating, loss=0.352: 720samples [00:03, 233.52samples/s]\u001b[A\n",
      "Validating, loss=0.348: 744samples [00:03, 228.15samples/s]\u001b[A\n",
      "Validating, loss=0.348: 768samples [00:03, 220.59samples/s]\u001b[A\n",
      "Validating, loss=0.344: 792samples [00:04, 219.71samples/s]\u001b[A\n",
      "Validating, loss=0.342: 800samples [00:04, 192.73samples/s]\u001b[A\u001b[1;37m[INFO 2017-03-09 08:26:48,236 kur.model.executor:197]\u001b[0m Validation loss: 0.342\u001b[0m\n",
      "\u001b[1;37m[INFO 2017-03-09 08:26:48,236 kur.model.hooks.output_hook:40]\u001b[0m Saving model output as pickle: t2/valid_results.pkl\u001b[0m\n",
      "Epoch 17/18, loss=0.387: 100%|███████████| 100/100 [00:15<00:00,  4.43samples/s]\n",
      "\u001b[1;37m[INFO 2017-03-09 08:26:49,363 kur.model.executor:464]\u001b[0m Training loss: 0.387\u001b[0m\n",
      "Validating, loss=0.285: 100%|█████████████| 40/40 [00:00<00:00, 231.09samples/s]\n",
      "\u001b[1;37m[INFO 2017-03-09 08:26:49,540 kur.model.executor:197]\u001b[0m Validation loss: 0.285\u001b[0m\n",
      "\u001b[1;37m[INFO 2017-03-09 08:26:49,540 kur.model.hooks.output_hook:40]\u001b[0m Saving model output as pickle: t2/valid_results.pkl\u001b[0m\n",
      "\n",
      "Epoch 18/18, loss=0.243:  40%|████▊       | 40/100 [00:00<00:01, 45.53samples/s]\u001b[1;37m[INFO 2017-03-09 08:26:51,562 kur.model.executor:521]\u001b[0m Making checkpoint backup: t2/checkpoint.kur\u001b[0m\n",
      "\n",
      "Validating, loss=N/A:   0%|                         | 0/40 [00:00<?, ?samples/s]\u001b[A\n",
      "Validating, loss=0.454:  40%|█████▏       | 16/40 [00:00<00:00, 125.23samples/s]\u001b[A\n",
      "Validating, loss=0.506: 100%|█████████████| 40/40 [00:00<00:00, 145.05samples/s]\u001b[A\n",
      "Validating, loss=0.366: 72samples [00:00, 167.14samples/s]                      \u001b[A\n",
      "Validating, loss=0.359: 96samples [00:00, 183.28samples/s]\u001b[A\n",
      "Validating, loss=0.352: 120samples [00:00, 194.34samples/s]\u001b[A\n",
      "Validating, loss=0.328: 152samples [00:00, 212.10samples/s]\u001b[A\n",
      "Validating, loss=0.321: 176samples [00:00, 212.36samples/s]\u001b[A\n",
      "Validating, loss=0.305: 200samples [00:00, 171.24samples/s]\u001b[A\n",
      "Validating, loss=0.321: 224samples [00:01, 139.69samples/s]\u001b[A\n",
      "Validating, loss=0.337: 248samples [00:01, 157.46samples/s]\u001b[A\n",
      "Validating, loss=0.323: 272samples [00:01, 154.11samples/s]\u001b[A\n",
      "Validating, loss=0.321: 296samples [00:01, 156.04samples/s]\u001b[A\n",
      "Validating, loss=0.312: 320samples [00:01, 152.95samples/s]\u001b[A\n",
      "Validating, loss=0.342: 344samples [00:01, 151.18samples/s]\u001b[A\n",
      "Validating, loss=0.362: 360samples [00:02, 149.65samples/s]\u001b[A\n",
      "Validating, loss=0.352: 376samples [00:02, 148.07samples/s]\u001b[A\n",
      "Validating, loss=0.357: 392samples [00:02, 140.01samples/s]\u001b[A\n",
      "Validating, loss=0.349: 408samples [00:02, 134.68samples/s]\u001b[A\n",
      "Validating, loss=0.345: 424samples [00:02, 135.49samples/s]\u001b[A\n",
      "Validating, loss=0.340: 440samples [00:02, 139.12samples/s]\u001b[A\n",
      "Validating, loss=0.341: 456samples [00:02, 141.53samples/s]\u001b[A\n",
      "Validating, loss=0.338: 472samples [00:02, 145.77samples/s]\u001b[A\n",
      "Validating, loss=0.333: 496samples [00:03, 163.67samples/s]\u001b[A\n",
      "Validating, loss=0.344: 528samples [00:03, 185.10samples/s]\u001b[A\n",
      "Validating, loss=0.340: 552samples [00:03, 179.98samples/s]\u001b[A\n",
      "Validating, loss=0.331: 576samples [00:03, 175.00samples/s]\u001b[A\n",
      "Validating, loss=0.334: 600samples [00:03, 186.36samples/s]\u001b[A\n",
      "Validating, loss=0.331: 632samples [00:03, 203.58samples/s]\u001b[A\n",
      "Validating, loss=0.336: 664samples [00:03, 217.96samples/s]\u001b[A\n",
      "Validating, loss=0.336: 696samples [00:03, 227.34samples/s]\u001b[A\n",
      "Validating, loss=0.339: 728samples [00:04, 231.21samples/s]\u001b[A\n",
      "Validating, loss=0.341: 752samples [00:04, 231.32samples/s]\u001b[A\n",
      "Validating, loss=0.342: 776samples [00:04, 233.25samples/s]\u001b[A\n",
      "Validating, loss=0.343: 800samples [00:04, 229.40samples/s]\u001b[A\n",
      "\u001b[A\u001b[1;37m[INFO 2017-03-09 08:26:55,964 kur.model.executor:197]\u001b[0m Validation loss: 0.343\u001b[0m\n",
      "\u001b[1;37m[INFO 2017-03-09 08:26:55,965 kur.model.hooks.output_hook:40]\u001b[0m Saving model output as pickle: t2/valid_results.pkl\u001b[0m\n",
      "Epoch 18/18, loss=0.291:  90%|██████████▊ | 90/100 [00:07<00:00, 16.17samples/s]\u001b[1;37m[INFO 2017-03-09 08:26:58,418 kur.model.executor:521]\u001b[0m Making checkpoint backup: t2/checkpoint.kur\u001b[0m\n",
      "\n",
      "Validating, loss=N/A:   0%|                         | 0/40 [00:00<?, ?samples/s]\u001b[A\n",
      "Validating, loss=0.953:  40%|█████▏       | 16/40 [00:00<00:00, 122.47samples/s]\u001b[A\n",
      "Validating, loss=0.495: 100%|█████████████| 40/40 [00:00<00:00, 133.02samples/s]\u001b[A\n",
      "Validating, loss=0.463: 64samples [00:00, 151.43samples/s]                      \u001b[A\n",
      "Validating, loss=0.432: 88samples [00:00, 170.12samples/s]\u001b[A\n",
      "Validating, loss=0.491: 112samples [00:00, 185.93samples/s]\u001b[A\n",
      "Validating, loss=0.494: 144samples [00:00, 202.56samples/s]\u001b[A\n",
      "Validating, loss=0.509: 168samples [00:00, 210.42samples/s]\u001b[A\n",
      "Validating, loss=0.507: 192samples [00:00, 212.53samples/s]\u001b[A\n",
      "Validating, loss=0.465: 216samples [00:01, 212.21samples/s]\u001b[A\n",
      "Validating, loss=0.440: 240samples [00:01, 208.07samples/s]\u001b[A\n",
      "Validating, loss=0.416: 264samples [00:01, 215.08samples/s]\u001b[A\n",
      "Validating, loss=0.398: 288samples [00:01, 218.18samples/s]\u001b[A\n",
      "Validating, loss=0.401: 312samples [00:01, 219.76samples/s]\u001b[A\n",
      "Validating, loss=0.411: 336samples [00:01, 219.17samples/s]\u001b[A\n",
      "Validating, loss=0.396: 360samples [00:01, 222.05samples/s]\u001b[A\n",
      "Validating, loss=0.390: 384samples [00:01, 214.09samples/s]\u001b[A\n",
      "Validating, loss=0.386: 408samples [00:01, 201.15samples/s]\u001b[A\n",
      "Validating, loss=0.371: 432samples [00:02, 202.33samples/s]\u001b[A\n",
      "Validating, loss=0.366: 456samples [00:02, 203.02samples/s]\u001b[A\n",
      "Validating, loss=0.364: 480samples [00:02, 204.14samples/s]\u001b[A\n",
      "Validating, loss=0.361: 512samples [00:02, 219.21samples/s]\u001b[A\n",
      "Validating, loss=0.370: 536samples [00:02, 225.02samples/s]\u001b[A\n",
      "Validating, loss=0.359: 568samples [00:02, 234.65samples/s]\u001b[A\n",
      "Validating, loss=0.360: 592samples [00:02, 223.26samples/s]\u001b[A\n",
      "Validating, loss=0.377: 616samples [00:02, 207.04samples/s]\u001b[A\n",
      "Validating, loss=0.370: 648samples [00:03, 219.75samples/s]\u001b[A\n",
      "Validating, loss=0.388: 680samples [00:03, 230.68samples/s]\u001b[A\n",
      "Validating, loss=0.380: 712samples [00:03, 237.25samples/s]\u001b[A\n",
      "Validating, loss=0.395: 744samples [00:03, 243.64samples/s]\u001b[A\n",
      "Validating, loss=0.398: 776samples [00:03, 249.36samples/s]\u001b[A\n",
      "Validating, loss=0.416: 800samples [00:03, 221.37samples/s]\u001b[A\u001b[1;37m[INFO 2017-03-09 08:27:02,095 kur.model.executor:197]\u001b[0m Validation loss: 0.416\u001b[0m\n",
      "\u001b[1;37m[INFO 2017-03-09 08:27:02,096 kur.model.hooks.output_hook:40]\u001b[0m Saving model output as pickle: t2/valid_results.pkl\u001b[0m\n",
      "Epoch 18/18, loss=0.285: 100%|███████████| 100/100 [00:12<00:00,  5.21samples/s]\n",
      "\u001b[1;37m[INFO 2017-03-09 08:27:03,183 kur.model.executor:464]\u001b[0m Training loss: 0.285\u001b[0m\n",
      "Validating, loss=0.594: 100%|█████████████| 40/40 [00:00<00:00, 194.20samples/s]\n",
      "\u001b[1;37m[INFO 2017-03-09 08:27:03,392 kur.model.executor:197]\u001b[0m Validation loss: 0.594\u001b[0m\n",
      "\u001b[1;37m[INFO 2017-03-09 08:27:03,392 kur.model.hooks.output_hook:40]\u001b[0m Saving model output as pickle: t2/valid_results.pkl\u001b[0m\n",
      "Completed 18 epochs.\n",
      "\u001b[1;37m[INFO 2017-03-09 08:27:04,790 kur.model.executor:235]\u001b[0m Saving most recent weights: t2/last_w\u001b[0m\n"
     ]
    }
   ],
   "source": [
    "# with checkpoint, see differences with above\n",
    "!kur -v train t2/mnist_sim.yml"
   ]
  },
  {
   "cell_type": "markdown",
   "metadata": {
    "deletable": true,
    "editable": true,
    "run_control": {
     "frozen": false,
     "read_only": true
    }
   },
   "source": [
    "## Model evaluation"
   ]
  },
  {
   "cell_type": "code",
   "execution_count": 31,
   "metadata": {
    "ExecuteTime": {
     "end_time": "2017-03-07T05:32:04.281732Z",
     "start_time": "2017-03-07T13:31:50.157835+08:00"
    },
    "collapsed": true,
    "deletable": true,
    "editable": true,
    "run_control": {
     "frozen": true,
     "read_only": true
    }
   },
   "outputs": [
    {
     "name": "stdout",
     "output_type": "stream",
     "text": [
      "\u001b[1;37m[INFO 2017-03-07 13:31:51,421 kur.kurfile:699]\u001b[0m Parsing source: mnist_demo/mnist.yml, included by top-level.\u001b[0m\n",
      "\u001b[1;37m[INFO 2017-03-07 13:31:51,430 kur.kurfile:699]\u001b[0m Parsing source: mnist_defaults.yml, included by mnist_demo/mnist.yml.\u001b[0m\n",
      "\u001b[1;37m[INFO 2017-03-07 13:31:51,450 kur.kurfile:82]\u001b[0m Parsing Kurfile...\u001b[0m\n",
      "\u001b[1;34m[DEBUG 2017-03-07 13:31:51,451 kur.kurfile:784]\u001b[0m Parsing Kurfile section: settings\u001b[0m\n",
      "\u001b[1;34m[DEBUG 2017-03-07 13:31:51,451 kur.kurfile:784]\u001b[0m Parsing Kurfile section: train\u001b[0m\n",
      "\u001b[1;34m[DEBUG 2017-03-07 13:31:51,455 kur.kurfile:784]\u001b[0m Parsing Kurfile section: validate\u001b[0m\n",
      "\u001b[1;34m[DEBUG 2017-03-07 13:31:51,460 kur.kurfile:784]\u001b[0m Parsing Kurfile section: test\u001b[0m\n",
      "\u001b[1;34m[DEBUG 2017-03-07 13:31:51,464 kur.kurfile:784]\u001b[0m Parsing Kurfile section: evaluate\u001b[0m\n",
      "\u001b[1;34m[DEBUG 2017-03-07 13:31:51,470 kur.containers.layers.placeholder:63]\u001b[0m Using short-hand name for placeholder: images\u001b[0m\n",
      "\u001b[1;34m[DEBUG 2017-03-07 13:31:51,471 kur.containers.layers.placeholder:97]\u001b[0m Placeholder \"images\" has a deferred shape.\u001b[0m\n",
      "\u001b[1;34m[DEBUG 2017-03-07 13:31:51,473 kur.kurfile:784]\u001b[0m Parsing Kurfile section: loss\u001b[0m\n",
      "\u001b[1;37m[INFO 2017-03-07 13:31:51,475 kur.__main__:96]\u001b[0m Trying to build a \"train\" model.\u001b[0m\n",
      "\u001b[1;34m[DEBUG 2017-03-07 13:31:51,525 kur.utils.package:233]\u001b[0m File exists and passed checksum: /Users/Natsume/kur/mnist/train-images-idx3-ubyte.gz\u001b[0m\n",
      "\u001b[1;34m[DEBUG 2017-03-07 13:31:52,724 kur.utils.package:233]\u001b[0m File exists and passed checksum: /Users/Natsume/kur/mnist/train-labels-idx1-ubyte.gz\u001b[0m\n",
      "\u001b[1;34m[DEBUG 2017-03-07 13:31:52,767 kur.providers.batch_provider:57]\u001b[0m Batch size set to: 10\u001b[0m\n",
      "\u001b[1;34m[DEBUG 2017-03-07 13:31:52,767 kur.providers.batch_provider:102]\u001b[0m Maximum number of batches set to: 10\u001b[0m\n",
      "\u001b[1;34m[DEBUG 2017-03-07 13:31:52,768 kur.backend.backend:187]\u001b[0m Using backend: keras\u001b[0m\n",
      "\u001b[1;37m[INFO 2017-03-07 13:31:52,769 kur.backend.backend:80]\u001b[0m Creating backend: keras\u001b[0m\n",
      "\u001b[1;37m[INFO 2017-03-07 13:31:52,769 kur.backend.backend:83]\u001b[0m Backend variants: none\u001b[0m\n",
      "\u001b[1;37m[INFO 2017-03-07 13:31:52,769 kur.backend.keras_backend:122]\u001b[0m No particular backend for Keras has been requested.\u001b[0m\n",
      "\u001b[1;34m[DEBUG 2017-03-07 13:31:52,772 kur.backend.keras_backend:124]\u001b[0m Using the system-default Keras backend.\u001b[0m\n",
      "\u001b[1;34m[DEBUG 2017-03-07 13:31:52,772 kur.backend.keras_backend:189]\u001b[0m Overriding environmental variables: {'TF_CPP_MIN_LOG_LEVEL': '1', 'KERAS_BACKEND': None, 'THEANO_FLAGS': None}\u001b[0m\n",
      "\u001b[1;37m[INFO 2017-03-07 13:31:54,040 kur.backend.keras_backend:195]\u001b[0m Keras is loaded. The backend is: theano\u001b[0m\n",
      "\u001b[1;37m[INFO 2017-03-07 13:31:54,041 kur.model.model:260]\u001b[0m Enumerating the model containers.\u001b[0m\n",
      "\u001b[1;37m[INFO 2017-03-07 13:31:54,041 kur.model.model:265]\u001b[0m Assembling the model dependency graph.\u001b[0m\n",
      "\u001b[1;34m[DEBUG 2017-03-07 13:31:54,041 kur.model.model:272]\u001b[0m Assembled Node: images\u001b[0m\n",
      "\u001b[1;34m[DEBUG 2017-03-07 13:31:54,041 kur.model.model:274]\u001b[0m   Uses: \u001b[0m\n",
      "\u001b[1;34m[DEBUG 2017-03-07 13:31:54,041 kur.model.model:276]\u001b[0m   Used by: ..convolution.0\u001b[0m\n",
      "\u001b[1;34m[DEBUG 2017-03-07 13:31:54,041 kur.model.model:277]\u001b[0m   Aliases: images\u001b[0m\n",
      "\u001b[1;34m[DEBUG 2017-03-07 13:31:54,041 kur.model.model:272]\u001b[0m Assembled Node: ..convolution.0\u001b[0m\n",
      "\u001b[1;34m[DEBUG 2017-03-07 13:31:54,041 kur.model.model:274]\u001b[0m   Uses: images\u001b[0m\n",
      "\u001b[1;34m[DEBUG 2017-03-07 13:31:54,041 kur.model.model:276]\u001b[0m   Used by: ..activation.0\u001b[0m\n",
      "\u001b[1;34m[DEBUG 2017-03-07 13:31:54,042 kur.model.model:277]\u001b[0m   Aliases: ..convolution.0\u001b[0m\n",
      "\u001b[1;34m[DEBUG 2017-03-07 13:31:54,042 kur.model.model:272]\u001b[0m Assembled Node: ..activation.0\u001b[0m\n",
      "\u001b[1;34m[DEBUG 2017-03-07 13:31:54,042 kur.model.model:274]\u001b[0m   Uses: ..convolution.0\u001b[0m\n",
      "\u001b[1;34m[DEBUG 2017-03-07 13:31:54,042 kur.model.model:276]\u001b[0m   Used by: ..convolution.1\u001b[0m\n",
      "\u001b[1;34m[DEBUG 2017-03-07 13:31:54,042 kur.model.model:277]\u001b[0m   Aliases: ..activation.0\u001b[0m\n",
      "\u001b[1;34m[DEBUG 2017-03-07 13:31:54,042 kur.model.model:272]\u001b[0m Assembled Node: ..convolution.1\u001b[0m\n",
      "\u001b[1;34m[DEBUG 2017-03-07 13:31:54,042 kur.model.model:274]\u001b[0m   Uses: ..activation.0\u001b[0m\n",
      "\u001b[1;34m[DEBUG 2017-03-07 13:31:54,042 kur.model.model:276]\u001b[0m   Used by: ..activation.1\u001b[0m\n",
      "\u001b[1;34m[DEBUG 2017-03-07 13:31:54,042 kur.model.model:277]\u001b[0m   Aliases: ..convolution.1\u001b[0m\n",
      "\u001b[1;34m[DEBUG 2017-03-07 13:31:54,042 kur.model.model:272]\u001b[0m Assembled Node: ..activation.1\u001b[0m\n",
      "\u001b[1;34m[DEBUG 2017-03-07 13:31:54,042 kur.model.model:274]\u001b[0m   Uses: ..convolution.1\u001b[0m\n",
      "\u001b[1;34m[DEBUG 2017-03-07 13:31:54,042 kur.model.model:276]\u001b[0m   Used by: ..pool.0\u001b[0m\n",
      "\u001b[1;34m[DEBUG 2017-03-07 13:31:54,042 kur.model.model:277]\u001b[0m   Aliases: ..activation.1\u001b[0m\n",
      "\u001b[1;34m[DEBUG 2017-03-07 13:31:54,042 kur.model.model:272]\u001b[0m Assembled Node: ..pool.0\u001b[0m\n",
      "\u001b[1;34m[DEBUG 2017-03-07 13:31:54,042 kur.model.model:274]\u001b[0m   Uses: ..activation.1\u001b[0m\n",
      "\u001b[1;34m[DEBUG 2017-03-07 13:31:54,042 kur.model.model:276]\u001b[0m   Used by: ..convolution.2\u001b[0m\n",
      "\u001b[1;34m[DEBUG 2017-03-07 13:31:54,042 kur.model.model:277]\u001b[0m   Aliases: ..pool.0\u001b[0m\n",
      "\u001b[1;34m[DEBUG 2017-03-07 13:31:54,042 kur.model.model:272]\u001b[0m Assembled Node: ..convolution.2\u001b[0m\n",
      "\u001b[1;34m[DEBUG 2017-03-07 13:31:54,042 kur.model.model:274]\u001b[0m   Uses: ..pool.0\u001b[0m\n",
      "\u001b[1;34m[DEBUG 2017-03-07 13:31:54,042 kur.model.model:276]\u001b[0m   Used by: ..activation.2\u001b[0m\n",
      "\u001b[1;34m[DEBUG 2017-03-07 13:31:54,042 kur.model.model:277]\u001b[0m   Aliases: ..convolution.2\u001b[0m\n",
      "\u001b[1;34m[DEBUG 2017-03-07 13:31:54,043 kur.model.model:272]\u001b[0m Assembled Node: ..activation.2\u001b[0m\n",
      "\u001b[1;34m[DEBUG 2017-03-07 13:31:54,043 kur.model.model:274]\u001b[0m   Uses: ..convolution.2\u001b[0m\n",
      "\u001b[1;34m[DEBUG 2017-03-07 13:31:54,043 kur.model.model:276]\u001b[0m   Used by: ..flatten.0\u001b[0m\n",
      "\u001b[1;34m[DEBUG 2017-03-07 13:31:54,043 kur.model.model:277]\u001b[0m   Aliases: ..activation.2\u001b[0m\n",
      "\u001b[1;34m[DEBUG 2017-03-07 13:31:54,043 kur.model.model:272]\u001b[0m Assembled Node: ..flatten.0\u001b[0m\n",
      "\u001b[1;34m[DEBUG 2017-03-07 13:31:54,043 kur.model.model:274]\u001b[0m   Uses: ..activation.2\u001b[0m\n",
      "\u001b[1;34m[DEBUG 2017-03-07 13:31:54,043 kur.model.model:276]\u001b[0m   Used by: ..dense.0\u001b[0m\n",
      "\u001b[1;34m[DEBUG 2017-03-07 13:31:54,043 kur.model.model:277]\u001b[0m   Aliases: ..flatten.0\u001b[0m\n",
      "\u001b[1;34m[DEBUG 2017-03-07 13:31:54,043 kur.model.model:272]\u001b[0m Assembled Node: ..dense.0\u001b[0m\n",
      "\u001b[1;34m[DEBUG 2017-03-07 13:31:54,043 kur.model.model:274]\u001b[0m   Uses: ..flatten.0\u001b[0m\n",
      "\u001b[1;34m[DEBUG 2017-03-07 13:31:54,043 kur.model.model:276]\u001b[0m   Used by: labels\u001b[0m\n",
      "\u001b[1;34m[DEBUG 2017-03-07 13:31:54,043 kur.model.model:277]\u001b[0m   Aliases: ..dense.0\u001b[0m\n",
      "\u001b[1;34m[DEBUG 2017-03-07 13:31:54,043 kur.model.model:272]\u001b[0m Assembled Node: labels\u001b[0m\n",
      "\u001b[1;34m[DEBUG 2017-03-07 13:31:54,043 kur.model.model:274]\u001b[0m   Uses: ..dense.0\u001b[0m\n",
      "\u001b[1;34m[DEBUG 2017-03-07 13:31:54,043 kur.model.model:276]\u001b[0m   Used by: \u001b[0m\n",
      "\u001b[1;34m[DEBUG 2017-03-07 13:31:54,043 kur.model.model:277]\u001b[0m   Aliases: labels\u001b[0m\n",
      "\u001b[1;37m[INFO 2017-03-07 13:31:54,043 kur.model.model:280]\u001b[0m Connecting the model graph.\u001b[0m\n",
      "\u001b[1;34m[DEBUG 2017-03-07 13:31:54,043 kur.model.model:311]\u001b[0m Building node: images\u001b[0m\n",
      "\u001b[1;34m[DEBUG 2017-03-07 13:31:54,043 kur.model.model:312]\u001b[0m   Aliases: images\u001b[0m\n",
      "\u001b[1;34m[DEBUG 2017-03-07 13:31:54,043 kur.model.model:313]\u001b[0m   Inputs:\u001b[0m\n",
      "\u001b[1;34m[DEBUG 2017-03-07 13:31:54,043 kur.containers.layers.placeholder:117]\u001b[0m Creating placeholder for \"images\" with data type \"float32\".\u001b[0m\n",
      "\u001b[1;34m[DEBUG 2017-03-07 13:31:54,044 kur.model.model:125]\u001b[0m Trying to infer shape for input \"images\"\u001b[0m\n",
      "\u001b[1;34m[DEBUG 2017-03-07 13:31:54,044 kur.model.model:143]\u001b[0m Inferred shape for input \"images\": (28, 28, 1)\u001b[0m\n",
      "\u001b[1;34m[DEBUG 2017-03-07 13:31:54,044 kur.containers.layers.placeholder:127]\u001b[0m Inferred shape: (28, 28, 1)\u001b[0m\n",
      "\u001b[1;34m[DEBUG 2017-03-07 13:31:54,049 kur.model.model:382]\u001b[0m   Value: images\u001b[0m\n",
      "\u001b[1;34m[DEBUG 2017-03-07 13:31:54,049 kur.model.model:311]\u001b[0m Building node: ..convolution.0\u001b[0m\n",
      "\u001b[1;34m[DEBUG 2017-03-07 13:31:54,049 kur.model.model:312]\u001b[0m   Aliases: ..convolution.0\u001b[0m\n",
      "\u001b[1;34m[DEBUG 2017-03-07 13:31:54,049 kur.model.model:313]\u001b[0m   Inputs:\u001b[0m\n",
      "\u001b[1;34m[DEBUG 2017-03-07 13:31:54,049 kur.model.model:315]\u001b[0m   - images: images\u001b[0m\n",
      "\u001b[1;34m[DEBUG 2017-03-07 13:31:56,207 kur.model.model:382]\u001b[0m   Value: Elemwise{add,no_inplace}.0\u001b[0m\n",
      "\u001b[1;34m[DEBUG 2017-03-07 13:31:56,207 kur.model.model:311]\u001b[0m Building node: ..activation.0\u001b[0m\n",
      "\u001b[1;34m[DEBUG 2017-03-07 13:31:56,207 kur.model.model:312]\u001b[0m   Aliases: ..activation.0\u001b[0m\n",
      "\u001b[1;34m[DEBUG 2017-03-07 13:31:56,207 kur.model.model:313]\u001b[0m   Inputs:\u001b[0m\n",
      "\u001b[1;34m[DEBUG 2017-03-07 13:31:56,207 kur.model.model:315]\u001b[0m   - ..convolution.0: Elemwise{add,no_inplace}.0\u001b[0m\n",
      "\u001b[1;34m[DEBUG 2017-03-07 13:31:56,212 kur.model.model:382]\u001b[0m   Value: Elemwise{mul,no_inplace}.0\u001b[0m\n",
      "\u001b[1;34m[DEBUG 2017-03-07 13:31:56,212 kur.model.model:311]\u001b[0m Building node: ..convolution.1\u001b[0m\n",
      "\u001b[1;34m[DEBUG 2017-03-07 13:31:56,212 kur.model.model:312]\u001b[0m   Aliases: ..convolution.1\u001b[0m\n",
      "\u001b[1;34m[DEBUG 2017-03-07 13:31:56,212 kur.model.model:313]\u001b[0m   Inputs:\u001b[0m\n",
      "\u001b[1;34m[DEBUG 2017-03-07 13:31:56,212 kur.model.model:315]\u001b[0m   - ..activation.0: Elemwise{mul,no_inplace}.0\u001b[0m\n",
      "\u001b[1;34m[DEBUG 2017-03-07 13:31:56,228 kur.model.model:382]\u001b[0m   Value: Elemwise{add,no_inplace}.0\u001b[0m\n",
      "\u001b[1;34m[DEBUG 2017-03-07 13:31:56,228 kur.model.model:311]\u001b[0m Building node: ..activation.1\u001b[0m\n",
      "\u001b[1;34m[DEBUG 2017-03-07 13:31:56,228 kur.model.model:312]\u001b[0m   Aliases: ..activation.1\u001b[0m\n",
      "\u001b[1;34m[DEBUG 2017-03-07 13:31:56,228 kur.model.model:313]\u001b[0m   Inputs:\u001b[0m\n",
      "\u001b[1;34m[DEBUG 2017-03-07 13:31:56,228 kur.model.model:315]\u001b[0m   - ..convolution.1: Elemwise{add,no_inplace}.0\u001b[0m\n",
      "\u001b[1;34m[DEBUG 2017-03-07 13:31:56,229 kur.model.model:382]\u001b[0m   Value: Elemwise{mul,no_inplace}.0\u001b[0m\n",
      "\u001b[1;34m[DEBUG 2017-03-07 13:31:56,229 kur.model.model:311]\u001b[0m Building node: ..pool.0\u001b[0m\n",
      "\u001b[1;34m[DEBUG 2017-03-07 13:31:56,229 kur.model.model:312]\u001b[0m   Aliases: ..pool.0\u001b[0m\n",
      "\u001b[1;34m[DEBUG 2017-03-07 13:31:56,229 kur.model.model:313]\u001b[0m   Inputs:\u001b[0m\n",
      "\u001b[1;34m[DEBUG 2017-03-07 13:31:56,229 kur.model.model:315]\u001b[0m   - ..activation.1: Elemwise{mul,no_inplace}.0\u001b[0m\n",
      "\u001b[1;34m[DEBUG 2017-03-07 13:31:56,232 kur.model.model:382]\u001b[0m   Value: DimShuffle{0,2,3,1}.0\u001b[0m\n",
      "\u001b[1;34m[DEBUG 2017-03-07 13:31:56,232 kur.model.model:311]\u001b[0m Building node: ..convolution.2\u001b[0m\n",
      "\u001b[1;34m[DEBUG 2017-03-07 13:31:56,232 kur.model.model:312]\u001b[0m   Aliases: ..convolution.2\u001b[0m\n",
      "\u001b[1;34m[DEBUG 2017-03-07 13:31:56,232 kur.model.model:313]\u001b[0m   Inputs:\u001b[0m\n",
      "\u001b[1;34m[DEBUG 2017-03-07 13:31:56,232 kur.model.model:315]\u001b[0m   - ..pool.0: DimShuffle{0,2,3,1}.0\u001b[0m\n",
      "\u001b[1;34m[DEBUG 2017-03-07 13:31:56,248 kur.model.model:382]\u001b[0m   Value: Elemwise{add,no_inplace}.0\u001b[0m\n",
      "\u001b[1;34m[DEBUG 2017-03-07 13:31:56,248 kur.model.model:311]\u001b[0m Building node: ..activation.2\u001b[0m\n",
      "\u001b[1;34m[DEBUG 2017-03-07 13:31:56,249 kur.model.model:312]\u001b[0m   Aliases: ..activation.2\u001b[0m\n",
      "\u001b[1;34m[DEBUG 2017-03-07 13:31:56,249 kur.model.model:313]\u001b[0m   Inputs:\u001b[0m\n",
      "\u001b[1;34m[DEBUG 2017-03-07 13:31:56,249 kur.model.model:315]\u001b[0m   - ..convolution.2: Elemwise{add,no_inplace}.0\u001b[0m\n",
      "\u001b[1;34m[DEBUG 2017-03-07 13:31:56,250 kur.model.model:382]\u001b[0m   Value: Elemwise{mul,no_inplace}.0\u001b[0m\n",
      "\u001b[1;34m[DEBUG 2017-03-07 13:31:56,250 kur.model.model:311]\u001b[0m Building node: ..flatten.0\u001b[0m\n",
      "\u001b[1;34m[DEBUG 2017-03-07 13:31:56,250 kur.model.model:312]\u001b[0m   Aliases: ..flatten.0\u001b[0m\n",
      "\u001b[1;34m[DEBUG 2017-03-07 13:31:56,250 kur.model.model:313]\u001b[0m   Inputs:\u001b[0m\n",
      "\u001b[1;34m[DEBUG 2017-03-07 13:31:56,250 kur.model.model:315]\u001b[0m   - ..activation.2: Elemwise{mul,no_inplace}.0\u001b[0m\n",
      "\u001b[1;34m[DEBUG 2017-03-07 13:31:56,256 kur.model.model:382]\u001b[0m   Value: Reshape{2}.0\u001b[0m\n",
      "\u001b[1;34m[DEBUG 2017-03-07 13:31:56,257 kur.model.model:311]\u001b[0m Building node: ..dense.0\u001b[0m\n",
      "\u001b[1;34m[DEBUG 2017-03-07 13:31:56,257 kur.model.model:312]\u001b[0m   Aliases: ..dense.0\u001b[0m\n",
      "\u001b[1;34m[DEBUG 2017-03-07 13:31:56,257 kur.model.model:313]\u001b[0m   Inputs:\u001b[0m\n",
      "\u001b[1;34m[DEBUG 2017-03-07 13:31:56,257 kur.model.model:315]\u001b[0m   - ..flatten.0: Reshape{2}.0\u001b[0m\n",
      "\u001b[1;34m[DEBUG 2017-03-07 13:31:56,390 kur.model.model:382]\u001b[0m   Value: Elemwise{add,no_inplace}.0\u001b[0m\n",
      "\u001b[1;34m[DEBUG 2017-03-07 13:31:56,390 kur.model.model:311]\u001b[0m Building node: labels\u001b[0m\n",
      "\u001b[1;34m[DEBUG 2017-03-07 13:31:56,390 kur.model.model:312]\u001b[0m   Aliases: labels\u001b[0m\n",
      "\u001b[1;34m[DEBUG 2017-03-07 13:31:56,390 kur.model.model:313]\u001b[0m   Inputs:\u001b[0m\n",
      "\u001b[1;34m[DEBUG 2017-03-07 13:31:56,391 kur.model.model:315]\u001b[0m   - ..dense.0: Elemwise{add,no_inplace}.0\u001b[0m\n",
      "\u001b[1;34m[DEBUG 2017-03-07 13:31:56,391 kur.model.model:382]\u001b[0m   Value: Softmax.0\u001b[0m\n",
      "\u001b[1;37m[INFO 2017-03-07 13:31:56,392 kur.model.model:284]\u001b[0m Model inputs:  images\u001b[0m\n",
      "\u001b[1;37m[INFO 2017-03-07 13:31:56,392 kur.model.model:285]\u001b[0m Model outputs: labels\u001b[0m\n",
      "\u001b[1;34m[DEBUG 2017-03-07 13:31:56,392 kur.model.executor:101]\u001b[0m Recompiling the model.\u001b[0m\n",
      "\u001b[1;34m[DEBUG 2017-03-07 13:31:56,392 kur.backend.keras_backend:527]\u001b[0m Instantiating a Keras model.\u001b[0m\n",
      "\u001b[1;34m[DEBUG 2017-03-07 13:31:56,860 kur.backend.keras_backend:538]\u001b[0m ____________________________________________________________________________________________________\u001b[0m\n",
      "\u001b[1;34m[DEBUG 2017-03-07 13:31:56,861 kur.backend.keras_backend:538]\u001b[0m Layer (type)                     Output Shape          Param #     Connected to                     \u001b[0m\n",
      "\u001b[1;34m[DEBUG 2017-03-07 13:31:56,861 kur.backend.keras_backend:538]\u001b[0m ====================================================================================================\u001b[0m\n",
      "\u001b[1;34m[DEBUG 2017-03-07 13:31:56,861 kur.backend.keras_backend:538]\u001b[0m images (InputLayer)              (None, 28, 28, 1)     0                                            \u001b[0m\n",
      "\u001b[1;34m[DEBUG 2017-03-07 13:31:56,861 kur.backend.keras_backend:538]\u001b[0m ____________________________________________________________________________________________________\u001b[0m\n",
      "\u001b[1;34m[DEBUG 2017-03-07 13:31:56,861 kur.backend.keras_backend:538]\u001b[0m ..convolution.0 (Convolution2D)  (None, 28, 28, 64)    320         images[0][0]                     \u001b[0m\n",
      "\u001b[1;34m[DEBUG 2017-03-07 13:31:56,861 kur.backend.keras_backend:538]\u001b[0m ____________________________________________________________________________________________________\u001b[0m\n",
      "\u001b[1;34m[DEBUG 2017-03-07 13:31:56,862 kur.backend.keras_backend:538]\u001b[0m ..activation.0 (Activation)      (None, 28, 28, 64)    0           ..convolution.0[0][0]            \u001b[0m\n",
      "\u001b[1;34m[DEBUG 2017-03-07 13:31:56,862 kur.backend.keras_backend:538]\u001b[0m ____________________________________________________________________________________________________\u001b[0m\n",
      "\u001b[1;34m[DEBUG 2017-03-07 13:31:56,863 kur.backend.keras_backend:538]\u001b[0m ..convolution.1 (Convolution2D)  (None, 28, 28, 96)    24672       ..activation.0[0][0]             \u001b[0m\n",
      "\u001b[1;34m[DEBUG 2017-03-07 13:31:56,863 kur.backend.keras_backend:538]\u001b[0m ____________________________________________________________________________________________________\u001b[0m\n",
      "\u001b[1;34m[DEBUG 2017-03-07 13:31:56,863 kur.backend.keras_backend:538]\u001b[0m ..activation.1 (Activation)      (None, 28, 28, 96)    0           ..convolution.1[0][0]            \u001b[0m\n",
      "\u001b[1;34m[DEBUG 2017-03-07 13:31:56,863 kur.backend.keras_backend:538]\u001b[0m ____________________________________________________________________________________________________\u001b[0m\n",
      "\u001b[1;34m[DEBUG 2017-03-07 13:31:56,863 kur.backend.keras_backend:538]\u001b[0m ..pool.0 (MaxPooling2D)          (None, 26, 26, 96)    0           ..activation.1[0][0]             \u001b[0m\n",
      "\u001b[1;34m[DEBUG 2017-03-07 13:31:56,863 kur.backend.keras_backend:538]\u001b[0m ____________________________________________________________________________________________________\u001b[0m\n",
      "\u001b[1;34m[DEBUG 2017-03-07 13:31:56,863 kur.backend.keras_backend:538]\u001b[0m ..convolution.2 (Convolution2D)  (None, 26, 26, 96)    36960       ..pool.0[0][0]                   \u001b[0m\n",
      "\u001b[1;34m[DEBUG 2017-03-07 13:31:56,863 kur.backend.keras_backend:538]\u001b[0m ____________________________________________________________________________________________________\u001b[0m\n",
      "\u001b[1;34m[DEBUG 2017-03-07 13:31:56,863 kur.backend.keras_backend:538]\u001b[0m ..activation.2 (Activation)      (None, 26, 26, 96)    0           ..convolution.2[0][0]            \u001b[0m\n",
      "\u001b[1;34m[DEBUG 2017-03-07 13:31:56,864 kur.backend.keras_backend:538]\u001b[0m ____________________________________________________________________________________________________\u001b[0m\n",
      "\u001b[1;34m[DEBUG 2017-03-07 13:31:56,864 kur.backend.keras_backend:538]\u001b[0m ..flatten.0 (Flatten)            (None, 64896)         0           ..activation.2[0][0]             \u001b[0m\n",
      "\u001b[1;34m[DEBUG 2017-03-07 13:31:56,864 kur.backend.keras_backend:538]\u001b[0m ____________________________________________________________________________________________________\u001b[0m\n",
      "\u001b[1;34m[DEBUG 2017-03-07 13:31:56,864 kur.backend.keras_backend:538]\u001b[0m dense_1 (Dense)                  (None, 64)            4153408     ..flatten.0[0][0]                \u001b[0m\n",
      "\u001b[1;34m[DEBUG 2017-03-07 13:31:56,864 kur.backend.keras_backend:538]\u001b[0m ____________________________________________________________________________________________________\u001b[0m\n",
      "\u001b[1;34m[DEBUG 2017-03-07 13:31:56,865 kur.backend.keras_backend:538]\u001b[0m ..dense.0 (Dense)                (None, 10)            650         dense_1[0][0]                    \u001b[0m\n",
      "\u001b[1;34m[DEBUG 2017-03-07 13:31:56,865 kur.backend.keras_backend:538]\u001b[0m ____________________________________________________________________________________________________\u001b[0m\n",
      "\u001b[1;34m[DEBUG 2017-03-07 13:31:56,865 kur.backend.keras_backend:538]\u001b[0m labels (Activation)              (None, 10)            0           ..dense.0[0][0]                  \u001b[0m\n",
      "\u001b[1;34m[DEBUG 2017-03-07 13:31:56,865 kur.backend.keras_backend:538]\u001b[0m ====================================================================================================\u001b[0m\n",
      "\u001b[1;34m[DEBUG 2017-03-07 13:31:56,865 kur.backend.keras_backend:538]\u001b[0m Total params: 4,216,010\u001b[0m\n",
      "\u001b[1;34m[DEBUG 2017-03-07 13:31:56,866 kur.backend.keras_backend:538]\u001b[0m Trainable params: 4,216,010\u001b[0m\n",
      "\u001b[1;34m[DEBUG 2017-03-07 13:31:56,866 kur.backend.keras_backend:538]\u001b[0m Non-trainable params: 0\u001b[0m\n",
      "\u001b[1;34m[DEBUG 2017-03-07 13:31:56,866 kur.backend.keras_backend:538]\u001b[0m ____________________________________________________________________________________________________\u001b[0m\n",
      "\u001b[1;34m[DEBUG 2017-03-07 13:31:56,866 kur.backend.keras_backend:538]\u001b[0m \u001b[0m\n",
      "\u001b[1;34m[DEBUG 2017-03-07 13:31:56,866 kur.backend.keras_backend:576]\u001b[0m Assembling a training function from the model.\u001b[0m\n",
      "\u001b[1;34m[DEBUG 2017-03-07 13:31:56,880 kur.backend.keras_backend:509]\u001b[0m Adding additional inputs: labels\u001b[0m\n",
      "\u001b[1;34m[DEBUG 2017-03-07 13:32:02,862 kur.backend.keras_backend:599]\u001b[0m Additional inputs for log functions: labels\u001b[0m\n",
      "\u001b[1;34m[DEBUG 2017-03-07 13:32:02,863 kur.backend.keras_backend:616]\u001b[0m Expected input shapes: images=(None, 28, 28, 1), labels=(None, None)\u001b[0m\n",
      "\u001b[1;34m[DEBUG 2017-03-07 13:32:02,863 kur.backend.keras_backend:634]\u001b[0m Compiled model: {'shapes': {'input': [(None, 28, 28, 1), (None, None)]}, 'names': {'input': ['images', 'labels'], 'output': ['labels', 'labels']}, 'func': <keras.backend.theano_backend.Function object at 0x1207f4400>}\u001b[0m\n",
      "\u001b[1;34m[DEBUG 2017-03-07 13:32:02,863 kur.providers.batch_provider:57]\u001b[0m Batch size set to: 2\u001b[0m\n",
      "\u001b[1;34m[DEBUG 2017-03-07 13:32:02,863 kur.providers.batch_provider:102]\u001b[0m Maximum number of batches set to: 1\u001b[0m\n",
      "\u001b[1;37m[INFO 2017-03-07 13:32:02,969 kur.backend.keras_backend:666]\u001b[0m Waiting for model to finish compiling...\u001b[0m\n",
      "\u001b[1;34m[DEBUG 2017-03-07 13:32:02,969 kur.providers.batch_provider:139]\u001b[0m Preparing next batch of data...\u001b[0m\n",
      "\u001b[1;34m[DEBUG 2017-03-07 13:32:02,970 kur.providers.batch_provider:204]\u001b[0m Next batch of data has been prepared.\u001b[0m\n"
     ]
    }
   ],
   "source": [
    "# freeze it as there is no need to run it every time\n",
    "!kur -vv build t1/mnist_sim.yml"
   ]
  },
  {
   "cell_type": "code",
   "execution_count": 54,
   "metadata": {
    "ExecuteTime": {
     "end_time": "2017-03-09T00:28:32.981891Z",
     "start_time": "2017-03-09T08:27:50.385854+08:00"
    },
    "collapsed": false,
    "deletable": true,
    "editable": true,
    "run_control": {
     "frozen": false,
     "read_only": false
    },
    "scrolled": true
   },
   "outputs": [
    {
     "name": "stdout",
     "output_type": "stream",
     "text": [
      "\u001b[1;37m[INFO 2017-03-09 08:27:51,217 kur.kurfile:699]\u001b[0m Parsing source: t2/mnist_sim.yml, included by top-level.\u001b[0m\n",
      "\u001b[1;37m[INFO 2017-03-09 08:27:51,222 kur.kurfile:699]\u001b[0m Parsing source: mnist.yml, included by t2/mnist_sim.yml.\u001b[0m\n",
      "\u001b[1;37m[INFO 2017-03-09 08:27:51,229 kur.kurfile:699]\u001b[0m Parsing source: mnist_defaults.yml, included by t2/mnist.yml.\u001b[0m\n",
      "\u001b[1;37m[INFO 2017-03-09 08:27:51,262 kur.kurfile:82]\u001b[0m Parsing Kurfile...\u001b[0m\n",
      "\u001b[1;37m[INFO 2017-03-09 08:27:51,438 kur.backend.backend:80]\u001b[0m Creating backend: keras\u001b[0m\n",
      "\u001b[1;37m[INFO 2017-03-09 08:27:51,438 kur.backend.backend:83]\u001b[0m Backend variants: none\u001b[0m\n",
      "\u001b[1;37m[INFO 2017-03-09 08:27:51,438 kur.backend.keras_backend:122]\u001b[0m No particular backend for Keras has been requested.\u001b[0m\n",
      "\u001b[1;37m[INFO 2017-03-09 08:27:52,064 kur.backend.keras_backend:195]\u001b[0m Keras is loaded. The backend is: theano\u001b[0m\n",
      "\u001b[1;37m[INFO 2017-03-09 08:27:52,064 kur.model.model:261]\u001b[0m Enumerating the model containers.\u001b[0m\n",
      "\u001b[1;37m[INFO 2017-03-09 08:27:52,065 kur.model.model:266]\u001b[0m Assembling the model dependency graph.\u001b[0m\n",
      "\u001b[1;37m[INFO 2017-03-09 08:27:52,065 kur.model.model:281]\u001b[0m Connecting the model graph.\u001b[0m\n",
      "\u001b[1;37m[INFO 2017-03-09 08:27:53,584 kur.model.model:285]\u001b[0m Model inputs:  images\u001b[0m\n",
      "\u001b[1;37m[INFO 2017-03-09 08:27:53,584 kur.model.model:286]\u001b[0m Model outputs: labels\u001b[0m\n",
      "\u001b[1;37m[INFO 2017-03-09 08:27:54,950 kur.backend.keras_backend:666]\u001b[0m Waiting for model to finish compiling...\u001b[0m\n",
      "Evaluating: 100%|███████████████████| 10000/10000 [00:37<00:00, 267.05samples/s]\n",
      "LABEL     CORRECT   TOTAL     ACCURACY  \n",
      "0         960       980        98.0%\n",
      "1         1097      1135       96.7%\n",
      "2         845       1032       81.9%\n",
      "3         953       1010       94.4%\n",
      "4         861       982        87.7%\n",
      "5         798       892        89.5%\n",
      "6         898       958        93.7%\n",
      "7         754       1028       73.3%\n",
      "8         750       974        77.0%\n",
      "9         954       1009       94.5%\n",
      "ALL       8870      10000      88.7%\n",
      "\u001b[1;37m[INFO 2017-03-09 08:28:32,514 kur.model.hooks.output_hook:40]\u001b[0m Saving model output as pickle: t2/mnist.results.pkl\u001b[0m\n"
     ]
    }
   ],
   "source": [
    "!kur -v evaluate t2/mnist_sim.yml"
   ]
  },
  {
   "cell_type": "markdown",
   "metadata": {},
   "source": [
    "**Q&A**\n",
    "- [how to create](https://gitter.im/deepgram-kur/Lobby?at=58bea7fd00c00c3d4fd0258a) the digit to digit accuracy table wiht `-mnist` hook"
   ]
  },
  {
   "cell_type": "markdown",
   "metadata": {},
   "source": [
    "**QUESTION!**\n",
    "- In Evaluation section, I did ask for `destination: t1/mnist.results.pkl` for output_hook (above)\n",
    "- In test section, I didn't ask for output_hook, but why output_hook in validate section is applied in test section (below)?"
   ]
  },
  {
   "cell_type": "markdown",
   "metadata": {},
   "source": [
    "## Test model and save result"
   ]
  },
  {
   "cell_type": "code",
   "execution_count": 24,
   "metadata": {
    "ExecuteTime": {
     "end_time": "2017-03-08T12:33:18.278717Z",
     "start_time": "2017-03-08T20:33:08.916788+08:00"
    },
    "collapsed": false,
    "deletable": true,
    "editable": true,
    "run_control": {
     "frozen": false,
     "read_only": false
    }
   },
   "outputs": [
    {
     "name": "stdout",
     "output_type": "stream",
     "text": [
      "\u001b[1;37m[INFO 2017-03-08 20:33:09,718 kur.kurfile:699]\u001b[0m Parsing source: t1/mnist_sim.yml, included by top-level.\u001b[0m\n",
      "\u001b[1;37m[INFO 2017-03-08 20:33:09,721 kur.kurfile:699]\u001b[0m Parsing source: mnist.yml, included by t1/mnist_sim.yml.\u001b[0m\n",
      "\u001b[1;37m[INFO 2017-03-08 20:33:09,728 kur.kurfile:699]\u001b[0m Parsing source: mnist_defaults.yml, included by t1/mnist.yml.\u001b[0m\n",
      "\u001b[1;37m[INFO 2017-03-08 20:33:09,765 kur.kurfile:82]\u001b[0m Parsing Kurfile...\u001b[0m\n",
      "\u001b[1;37m[INFO 2017-03-08 20:33:09,935 kur.backend.backend:80]\u001b[0m Creating backend: keras\u001b[0m\n",
      "\u001b[1;37m[INFO 2017-03-08 20:33:09,935 kur.backend.backend:83]\u001b[0m Backend variants: none\u001b[0m\n",
      "\u001b[1;37m[INFO 2017-03-08 20:33:09,935 kur.backend.keras_backend:122]\u001b[0m No particular backend for Keras has been requested.\u001b[0m\n",
      "\u001b[1;37m[INFO 2017-03-08 20:33:10,475 kur.backend.keras_backend:195]\u001b[0m Keras is loaded. The backend is: theano\u001b[0m\n",
      "\u001b[1;37m[INFO 2017-03-08 20:33:10,476 kur.model.model:261]\u001b[0m Enumerating the model containers.\u001b[0m\n",
      "\u001b[1;37m[INFO 2017-03-08 20:33:10,476 kur.model.model:266]\u001b[0m Assembling the model dependency graph.\u001b[0m\n",
      "\u001b[1;37m[INFO 2017-03-08 20:33:10,476 kur.model.model:281]\u001b[0m Connecting the model graph.\u001b[0m\n",
      "\u001b[1;37m[INFO 2017-03-08 20:33:11,783 kur.model.model:285]\u001b[0m Model inputs:  images\u001b[0m\n",
      "\u001b[1;37m[INFO 2017-03-08 20:33:11,783 kur.model.model:286]\u001b[0m Model outputs: labels\u001b[0m\n",
      "\u001b[1;37m[INFO 2017-03-08 20:33:13,244 kur.backend.keras_backend:666]\u001b[0m Waiting for model to finish compiling...\u001b[0m\n",
      "Testing, loss=0.869: 100%|██████████████| 960/960 [00:04<00:00, 176.72samples/s]\n",
      "\u001b[1;37m[INFO 2017-03-08 20:33:17,569 kur.model.executor:197]\u001b[0m Test loss: 0.869\u001b[0m\n",
      "\u001b[1;37m[INFO 2017-03-08 20:33:17,569 kur.model.hooks.output_hook:40]\u001b[0m Saving model output as pickle: t1/valid_results.pkl\u001b[0m\n"
     ]
    }
   ],
   "source": [
    "!kur -v test t1/mnist_sim.yml"
   ]
  },
  {
   "cell_type": "markdown",
   "metadata": {},
   "source": [
    "## Plot loss \n",
    "- loss1: how loss move as batch number increase\n",
    "- loss2: how loss move as time increase\n",
    "- loss3: how fast does this model train"
   ]
  },
  {
   "cell_type": "code",
   "execution_count": 25,
   "metadata": {
    "ExecuteTime": {
     "end_time": "2017-03-08T12:42:32.621661Z",
     "start_time": "2017-03-08T20:42:32.616156+08:00"
    },
    "collapsed": true
   },
   "outputs": [],
   "source": [
    "from IPython.display import Image"
   ]
  },
  {
   "cell_type": "code",
   "execution_count": 72,
   "metadata": {
    "ExecuteTime": {
     "end_time": "2017-03-09T00:42:46.104702Z",
     "start_time": "2017-03-09T08:42:46.095009+08:00"
    },
    "collapsed": false,
    "scrolled": true
   },
   "outputs": [
    {
     "data": {
      "image/png": "[encoded data removed]",
      "text/plain": [
       "<IPython.core.display.Image object>"
      ]
     },
     "execution_count": 72,
     "metadata": {},
     "output_type": "execute_result"
    }
   ],
   "source": [
    "Image(filename='t1/loss1.png')"
   ]
  },
  {
   "cell_type": "code",
   "execution_count": 27,
   "metadata": {
    "ExecuteTime": {
     "end_time": "2017-03-08T12:42:34.121236Z",
     "start_time": "2017-03-08T20:42:34.114195+08:00"
    },
    "collapsed": false,
    "scrolled": true
   },
   "outputs": [
    {
     "data": {
      "image/png": "[encoded data removed]",
      "text/plain": [
       "<IPython.core.display.Image object>"
      ]
     },
     "execution_count": 27,
     "metadata": {},
     "output_type": "execute_result"
    }
   ],
   "source": [
    "Image(filename='t1/loss2.png')"
   ]
  },
  {
   "cell_type": "code",
   "execution_count": 28,
   "metadata": {
    "ExecuteTime": {
     "end_time": "2017-03-08T12:42:34.424754Z",
     "start_time": "2017-03-08T20:42:34.411313+08:00"
    },
    "collapsed": false
   },
   "outputs": [
    {
     "data": {
      "image/png": "[encoded data removed]",
      "text/plain": [
       "<IPython.core.display.Image object>"
      ]
     },
     "execution_count": 28,
     "metadata": {},
     "output_type": "execute_result"
    }
   ],
   "source": [
    "Image(filename='t1/loss3.png')"
   ]
  },
  {
   "cell_type": "markdown",
   "metadata": {
    "deletable": true,
    "editable": true,
    "run_control": {
     "frozen": false,
     "read_only": false
    }
   },
   "source": [
    "## What is stored inside mnist-log/ \n",
    "- loss_batch: how many batches have ran so far, e.g., if ran 2 epochs, it could be [10, 20], 1st epoch: 10 batches, 2nd epoch: 20 batches\n",
    "- loss_time: how long has been running so far, [12, 25], 1st epoch took 12 seconds, total 2 epochs took 25 seconds\n",
    "- loss_labels: loss value for each epoch\n",
    "- loss_total: same as loss_labels, but not sure in what situation it would be different ??? QUESTION!\n",
    "\n",
    "**What does summary.yml record? Answered**\n",
    "- see [detailed answer](https://gitter.im/deepgram-kur/Lobby?at=58bffcf71465c46a56021e7e)"
   ]
  },
  {
   "cell_type": "code",
   "execution_count": 29,
   "metadata": {
    "ExecuteTime": {
     "end_time": "2017-03-08T12:43:54.278951Z",
     "start_time": "2017-03-08T20:43:54.154621+08:00"
    },
    "collapsed": false
   },
   "outputs": [
    {
     "name": "stdout",
     "output_type": "stream",
     "text": [
      "batch_loss_batch        training_loss_batch     validation_loss_labels\r\n",
      "batch_loss_labels       training_loss_labels    validation_loss_time\r\n",
      "batch_loss_time         training_loss_time      validation_loss_total\r\n",
      "batch_loss_total        training_loss_total\r\n",
      "summary.yml             validation_loss_batch\r\n"
     ]
    }
   ],
   "source": [
    "%ls t1/mnist_log/"
   ]
  },
  {
   "cell_type": "code",
   "execution_count": 69,
   "metadata": {
    "ExecuteTime": {
     "end_time": "2017-03-09T00:41:56.083874Z",
     "start_time": "2017-03-09T08:41:56.076968+08:00"
    },
    "collapsed": false,
    "deletable": true,
    "editable": true,
    "run_control": {
     "frozen": false,
     "read_only": false
    }
   },
   "outputs": [],
   "source": [
    "from kur.loggers import BinaryLogger\n",
    "loss_b = BinaryLogger.load_column('t1/mnist_log/', 'training_loss_batch')\n",
    "loss_l = BinaryLogger.load_column('t1/mnist_log/', 'training_loss_labels')\n",
    "loss_ti = BinaryLogger.load_column('t1/mnist_log/', 'training_loss_time')\n",
    "loss_to = BinaryLogger.load_column('t1/mnist_log/', 'training_loss_total')"
   ]
  },
  {
   "cell_type": "code",
   "execution_count": 70,
   "metadata": {
    "ExecuteTime": {
     "end_time": "2017-03-09T00:41:56.612988Z",
     "start_time": "2017-03-09T08:41:56.605151+08:00"
    },
    "collapsed": false,
    "deletable": true,
    "editable": true,
    "run_control": {
     "frozen": false,
     "read_only": false
    }
   },
   "outputs": [
    {
     "data": {
      "text/plain": [
       "numpy.ndarray"
      ]
     },
     "execution_count": 70,
     "metadata": {},
     "output_type": "execute_result"
    }
   ],
   "source": [
    "type(loss_to)"
   ]
  },
  {
   "cell_type": "code",
   "execution_count": 71,
   "metadata": {
    "ExecuteTime": {
     "end_time": "2017-03-09T00:41:56.987065Z",
     "start_time": "2017-03-09T08:41:56.973636+08:00"
    },
    "collapsed": false,
    "deletable": true,
    "editable": true,
    "run_control": {
     "frozen": false,
     "read_only": false
    }
   },
   "outputs": [
    {
     "name": "stdout",
     "output_type": "stream",
     "text": [
      "loss_b: [10 20]\n",
      "loss_l: [ 2.27613854  1.26960361]\n",
      "loss_ti: [ 12.71239853  25.64021492]\n",
      "loss_to: [ 2.27613854  1.26960361]\n"
     ]
    }
   ],
   "source": [
    "print(\"loss_b:\", loss_b)\n",
    "print(\"loss_l:\", loss_l)\n",
    "print(\"loss_ti:\", loss_ti)\n",
    "print(\"loss_to:\", loss_to)"
   ]
  },
  {
   "cell_type": "markdown",
   "metadata": {
    "deletable": true,
    "editable": true,
    "run_control": {
     "frozen": false,
     "read_only": false
    }
   },
   "source": [
    "## What output_hook produce?\n",
    "- mnist.results.pkl and valid.output.pkl are the same thing\n",
    "- result: prediction labels, dim (none, 10)\n",
    "- truth: true labels, dim (none, 1)\n",
    "- does kur provide a function to quickly load and see what is stored in the pickle file produced by ouotput hook? QUESTION!"
   ]
  },
  {
   "cell_type": "code",
   "execution_count": 88,
   "metadata": {
    "ExecuteTime": {
     "end_time": "2017-03-07T09:06:27.455182Z",
     "start_time": "2017-03-07T17:06:27.450529+08:00"
    },
    "collapsed": true,
    "deletable": true,
    "editable": true,
    "run_control": {
     "frozen": false,
     "read_only": false
    }
   },
   "outputs": [],
   "source": [
    "import pickle"
   ]
  },
  {
   "cell_type": "code",
   "execution_count": 89,
   "metadata": {
    "ExecuteTime": {
     "end_time": "2017-03-07T09:06:28.700046Z",
     "start_time": "2017-03-07T17:06:28.689203+08:00"
    },
    "collapsed": false,
    "deletable": true,
    "editable": true,
    "run_control": {
     "frozen": false,
     "read_only": false
    }
   },
   "outputs": [],
   "source": [
    "objects = []\n",
    "with (open(\"mnist_demo/mnist.results.pkl\", \"rb\")) as openfile:\n",
    "    while True:\n",
    "        try:\n",
    "            objects.append(pickle.load(openfile))\n",
    "        except EOFError:\n",
    "            break"
   ]
  },
  {
   "cell_type": "code",
   "execution_count": 96,
   "metadata": {
    "ExecuteTime": {
     "end_time": "2017-03-07T09:09:28.293639Z",
     "start_time": "2017-03-07T17:09:28.284715+08:00"
    },
    "collapsed": false,
    "deletable": true,
    "editable": true,
    "run_control": {
     "frozen": false,
     "read_only": false
    }
   },
   "outputs": [
    {
     "data": {
      "text/plain": [
       "{'labels': array([[  6.34934171e-04,   1.61952619e-03,   4.64436976e-04, ...,\n",
       "           9.67636704e-01,   6.90784678e-03,   9.98236984e-03],\n",
       "        [  2.50942772e-03,   1.99295226e-02,   3.06665897e-02, ...,\n",
       "           1.41713594e-04,   4.14029285e-02,   2.23570954e-04],\n",
       "        [  5.93420700e-04,   9.16382194e-01,   5.09680249e-03, ...,\n",
       "           9.34527908e-03,   2.21553724e-02,   2.46891868e-03],\n",
       "        ..., \n",
       "        [  3.83175304e-03,   1.99483801e-02,   9.33283358e-04, ...,\n",
       "           1.60496131e-01,   2.52854586e-01,   1.92379564e-01],\n",
       "        [  4.16923352e-02,   4.19610478e-02,   4.21239715e-03, ...,\n",
       "           3.33479494e-02,   3.46194357e-01,   4.40075547e-02],\n",
       "        [  1.28660694e-01,   1.02628364e-04,   3.26921465e-04, ...,\n",
       "           3.14452591e-05,   9.28878610e-04,   5.14979765e-04]], dtype=float32)}"
      ]
     },
     "execution_count": 96,
     "metadata": {},
     "output_type": "execute_result"
    }
   ],
   "source": [
    "objects[0]['result']"
   ]
  },
  {
   "cell_type": "code",
   "execution_count": 98,
   "metadata": {
    "ExecuteTime": {
     "end_time": "2017-03-07T09:09:59.560940Z",
     "start_time": "2017-03-07T17:09:59.548638+08:00"
    },
    "collapsed": false,
    "deletable": true,
    "editable": true,
    "run_control": {
     "frozen": false,
     "read_only": false
    }
   },
   "outputs": [
    {
     "data": {
      "text/plain": [
       "{'labels': array([[ 0.,  0.,  0., ...,  1.,  0.,  0.],\n",
       "        [ 0.,  0.,  1., ...,  0.,  0.,  0.],\n",
       "        [ 0.,  1.,  0., ...,  0.,  0.,  0.],\n",
       "        ..., \n",
       "        [ 0.,  0.,  0., ...,  0.,  0.,  0.],\n",
       "        [ 0.,  0.,  0., ...,  0.,  0.,  0.],\n",
       "        [ 0.,  0.,  0., ...,  0.,  0.,  0.]])}"
      ]
     },
     "execution_count": 98,
     "metadata": {},
     "output_type": "execute_result"
    }
   ],
   "source": [
    "objects[0]['truth']"
   ]
  },
  {
   "cell_type": "code",
   "execution_count": 99,
   "metadata": {
    "ExecuteTime": {
     "end_time": "2017-03-07T09:11:35.519116Z",
     "start_time": "2017-03-07T17:11:35.512006+08:00"
    },
    "collapsed": false,
    "deletable": true,
    "editable": true,
    "run_control": {
     "frozen": false,
     "read_only": false
    }
   },
   "outputs": [
    {
     "data": {
      "text/plain": [
       "10000"
      ]
     },
     "execution_count": 99,
     "metadata": {},
     "output_type": "execute_result"
    }
   ],
   "source": [
    "len(objects[0]['result']['labels'])"
   ]
  }
 ],
 "metadata": {
  "kernelspec": {
   "display_name": "Python 3",
   "language": "python",
   "name": "python3"
  },
  "language_info": {
   "codemirror_mode": {
    "name": "ipython",
    "version": 3
   },
   "file_extension": ".py",
   "mimetype": "text/x-python",
   "name": "python",
   "nbconvert_exporter": "python",
   "pygments_lexer": "ipython3",
   "version": "3.5.3"
  },
  "toc": {
   "colors": {
    "hover_highlight": "#DAA520",
    "running_highlight": "#FF0000",
    "selected_highlight": "#FFD700"
   },
   "moveMenuLeft": true,
   "nav_menu": {
    "height": "174px",
    "width": "252px"
   },
   "navigate_menu": true,
   "number_sections": true,
   "sideBar": false,
   "threshold": 4,
   "toc_cell": true,
   "toc_position": {
    "height": "250px",
    "left": "1014px",
    "right": "20px",
    "top": "-25px",
    "width": "253px"
   },
   "toc_section_display": "block",
   "toc_window_display": true
  }
 },
 "nbformat": 4,
 "nbformat_minor": 2
}
